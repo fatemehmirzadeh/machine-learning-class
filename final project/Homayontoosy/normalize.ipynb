{
  "nbformat": 4,
  "nbformat_minor": 0,
  "metadata": {
    "colab": {
      "name": "Untitled11.ipynb",
      "provenance": []
    },
    "kernelspec": {
      "name": "python3",
      "display_name": "Python 3"
    },
    "language_info": {
      "name": "python"
    }
  },
  "cells": [
    {
      "cell_type": "code",
      "execution_count": 6,
      "metadata": {
        "colab": {
          "base_uri": "https://localhost:8080/"
        },
        "id": "4OsplM1bxYPH",
        "outputId": "82573de9-9de4-47f3-c71f-8e11b6371d41"
      },
      "outputs": [
        {
          "output_type": "stream",
          "name": "stdout",
          "text": [
            "       # age Sleep_problems  ... Loss_of_smell Loss_of_taste urticaria\n",
            "0      1  19            yes  ...            no            no        no\n",
            "1      2  28            yes  ...            no            no        no\n",
            "2      3  40             no  ...            no            no        no\n",
            "3      4  62            yes  ...            no            no        no\n",
            "4      5  23            yes  ...            no            no        no\n",
            "..   ...  ..            ...  ...           ...           ...       ...\n",
            "482  483  26             no  ...            no            no        no\n",
            "483  484  51             no  ...           yes           yes        no\n",
            "484  485  32             no  ...           yes           yes        no\n",
            "485  486  30             no  ...           yes           yes        no\n",
            "486  487  27             no  ...           yes            no        no\n",
            "\n",
            "[487 rows x 23 columns]\n"
          ]
        }
      ],
      "source": [
        "import pandas as pd\n",
        "import numpy as np\n",
        "from sklearn import preprocessing\n",
        "data=pd.read_json(\"/content/drive/MyDrive/data/covid.json\")\n",
        "print(data)"
      ]
    },
    {
      "cell_type": "code",
      "source": [
        "scaler = preprocessing.MinMaxScaler()"
      ],
      "metadata": {
        "id": "M0p9l4_H3okx"
      },
      "execution_count": 14,
      "outputs": []
    },
    {
      "cell_type": "code",
      "source": [
        "min_max_Scalar=preprocessing.MinMaxScaler()"
      ],
      "metadata": {
        "id": "86eetgQyyAgH"
      },
      "execution_count": 18,
      "outputs": []
    }
  ]
}