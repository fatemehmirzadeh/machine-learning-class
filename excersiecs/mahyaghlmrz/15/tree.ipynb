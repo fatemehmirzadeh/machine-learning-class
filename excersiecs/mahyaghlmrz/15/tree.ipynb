{
  "nbformat": 4,
  "nbformat_minor": 0,
  "metadata": {
    "colab": {
      "name": "tree.ipynb",
      "provenance": []
    },
    "kernelspec": {
      "name": "python3",
      "display_name": "Python 3"
    },
    "language_info": {
      "name": "python"
    }
  },
  "cells": [
    {
      "cell_type": "code",
      "source": [
        "def AND(a, b):\n",
        "    if a == False:\n",
        "      return False\n",
        "    else:\n",
        "        if b == True:\n",
        "            return True\n",
        "        else:\n",
        "            return False\n",
        "def OR(a, b):\n",
        "    if a == True:\n",
        "      return True\n",
        "    else:\n",
        "        if b == True:\n",
        "            return True\n",
        "        else:\n",
        "            return False\n",
        "def XOR(a, b):\n",
        "    if a == False:\n",
        "        if b == True:\n",
        "           return True\n",
        "        else:\n",
        "           return False\n",
        "    else:\n",
        "        if b == True:\n",
        "            return False\n",
        "        else:\n",
        "            return True\n",
        "def NAND(a, b):\n",
        "    if a == False:\n",
        "      return True\n",
        "    else:\n",
        "        if b == True:\n",
        "            return False\n",
        "        else:\n",
        "            return True\n",
        "\n",
        "def NOR(a, b):\n",
        "    if a == False:\n",
        "        if b == False:\n",
        "            return True\n",
        "        else:\n",
        "            return False\n",
        "    else:\n",
        "        return False\n",
        "\n",
        "def NOT(a):\n",
        "    if a == True:\n",
        "        return False\n",
        "    else:\n",
        "        return True\n",
        "    "
      ],
      "metadata": {
        "id": "DU5-KsCdkeuI"
      },
      "execution_count": null,
      "outputs": []
    }
  ]
}