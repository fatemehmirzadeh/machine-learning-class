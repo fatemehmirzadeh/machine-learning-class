{
  "nbformat": 4,
  "nbformat_minor": 0,
  "metadata": {
    "colab": {
      "name": "tree.ipynb",
      "provenance": []
    },
    "kernelspec": {
      "name": "python3",
      "display_name": "Python 3"
    },
    "language_info": {
      "name": "python"
    }
  },
  "cells": [
    {
      "cell_type": "code",
      "source": [
        "def AND(a, b):\n",
        "    if a == False:\n",
        "      return False\n",
        "    else:\n",
        "        if b == True:\n",
        "            return True\n",
        "        else:\n",
        "            return False\n",
        "def OR(a, b):\n",
        "    if a == True:\n",
        "      return True\n",
        "    else:\n",
        "        if b == True:\n",
        "            return True\n",
        "        else:\n",
        "            return False\n",
        "def XOR(a, b):\n",
        "    if a == False:\n",
        "        if b == True:\n",
        "           return True\n",
        "        else:\n",
        "           return False\n",
        "    else:\n",
        "        if b == True:\n",
        "            return False\n",
        "        else:\n",
        "            return True\n",
        "def NAND(a, b):\n",
        "    if a == False:\n",
        "      return True\n",
        "    else:\n",
        "        if b == True:\n",
        "            return False\n",
        "        else:\n",
        "            return True\n",
        "\n",
        "def NOR(a, b):\n",
        "    if a == False:\n",
        "        if b == False:\n",
        "            return True\n",
        "        else:\n",
        "            return False\n",
        "    else:\n",
        "        return False\n",
        "\n",
        "def NOT(a):\n",
        "    if a == True:\n",
        "        return False\n",
        "    else:\n",
        "        return True\n",
        "    "
      ],
      "metadata": {
        "id": "DU5-KsCdkeuI"
      },
      "execution_count": null,
      "outputs": []
    },
    {
      "cell_type": "markdown",
      "source": [
        "Class1=(A AND B) OR (B OR C) XOR (A NAND B)"
      ],
      "metadata": {
        "id": "ld8ccFPPqT7I"
      }
    },
    {
      "cell_type": "code",
      "source": [
        "def Class1(a, b, c):\n",
        "    x=AND(a, b)\n",
        "    y=OR(b, c)\n",
        "    z=NAND(a, b)\n",
        "    q=OR(x, y)\n",
        "    return XOR(q, z)\n"
      ],
      "metadata": {
        "id": "SjE7GaqiqW7f"
      },
      "execution_count": null,
      "outputs": []
    },
    {
      "cell_type": "markdown",
      "source": [
        "Class2=(A AND B OR C) OR (C NAND B)"
      ],
      "metadata": {
        "id": "K2XJik8xqXzz"
      }
    },
    {
      "cell_type": "code",
      "source": [
        "def Class2(a, b, c):\n",
        "    x=AND(a, b)\n",
        "    y=OR(x, c)\n",
        "    z=NAND(c, b)\n",
        "    return OR(y, z)"
      ],
      "metadata": {
        "id": "1q17ZkYXqccA"
      },
      "execution_count": null,
      "outputs": []
    },
    {
      "cell_type": "markdown",
      "source": [
        "Class3=(A XOR B) AND (B OR C) AND (C AND D)"
      ],
      "metadata": {
        "id": "hHPi6cazqdP1"
      }
    },
    {
      "cell_type": "code",
      "source": [
        "def Class1(a, b, c, d):\n",
        "    x=XOR(a, b)\n",
        "    y=OR(b, c)\n",
        "    z=AND(c, d)\n",
        "    q=AND(x, y)\n",
        "    return (q, z)"
      ],
      "metadata": {
        "id": "Ap48b3r9qeK1"
      },
      "execution_count": null,
      "outputs": []
    }
  ]
}