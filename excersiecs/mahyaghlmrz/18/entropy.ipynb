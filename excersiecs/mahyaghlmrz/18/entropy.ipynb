{
  "nbformat": 4,
  "nbformat_minor": 0,
  "metadata": {
    "colab": {
      "name": "entropy.ipynb",
      "provenance": [],
      "collapsed_sections": []
    },
    "kernelspec": {
      "name": "python3",
      "display_name": "Python 3"
    },
    "language_info": {
      "name": "python"
    }
  },
  "cells": [
    {
      "cell_type": "code",
      "source": [
        "import math as m\n",
        "def Log(x):\n",
        "    if x>0:\n",
        "      i=m.log2(x)\n",
        "    else:\n",
        "      i=0\n",
        "    return i \n",
        "def entropy(pos, neg):\n",
        "    pos= float(pos)\n",
        "    neg = float(neg)\n",
        "    x = (neg / (neg + pos)) * (Log(neg / neg + pos))\n",
        "    y = (pos / (neg + pos)) * (Log(pos / neg + pos))\n",
        "    return x +y\n",
        "entropy(1,3)\n",
        "\n"
      ],
      "metadata": {
        "colab": {
          "base_uri": "https://localhost:8080/"
        },
        "id": "3-PLdydvvMuf",
        "outputId": "911d64ba-a8e8-45ac-b5ca-fa1261b22d35"
      },
      "execution_count": 25,
      "outputs": [
        {
          "output_type": "execute_result",
          "data": {
            "text/plain": [
              "0.853759374819711"
            ]
          },
          "metadata": {},
          "execution_count": 25
        }
      ]
    },
    {
      "cell_type": "code",
      "source": [
        "import math\n",
        "print(math.log2(2.7183))\n",
        "print(math.log2(2))\n",
        "print(math.log2(1))"
      ],
      "metadata": {
        "colab": {
          "base_uri": "https://localhost:8080/"
        },
        "id": "Btez9JDH2S9X",
        "outputId": "35f2a986-3b52-44f3-9e2b-5db593548a8f"
      },
      "execution_count": 19,
      "outputs": [
        {
          "output_type": "stream",
          "name": "stdout",
          "text": [
            "1.4427046851812222\n",
            "1.0\n",
            "0.0\n"
          ]
        }
      ]
    }
  ]
}