{
  "nbformat": 4,
  "nbformat_minor": 0,
  "metadata": {
    "colab": {
      "name": "ID3.ipynb",
      "provenance": []
    },
    "kernelspec": {
      "name": "python3",
      "display_name": "Python 3"
    },
    "language_info": {
      "name": "python"
    }
  },
  "cells": [
    {
      "cell_type": "code",
      "source": [
        "import math\n",
        "def Entropy(positiveCount, negativeCount, allCount):\n",
        "  a = -(negativeCount / allCount) * (math.log((negativeCount / allCount), 2.0))\n",
        "  b = -(positiveCount / allCount) * (math.log((positiveCount / allCount), 2.0))\n",
        "  return a + b"
      ],
      "metadata": {
        "id": "zjxWvK5uUwRf"
      },
      "execution_count": 28,
      "outputs": []
    },
    {
      "cell_type": "code",
      "source": [
        "import pandas as pd\n",
        "import numpy as np\n",
        "\n",
        "data = pd.read_csv(\"/content/ID3\")\n",
        "data.head()\n",
        "\n",
        "def entropy(y):\n",
        "  '''\n",
        "  Given a Pandas Series, it calculates the entropy. \n",
        "  y: variable with which calculate entropy.\n",
        "  '''\n",
        "  if isinstance(y, pd.Series):\n",
        "    a = y.value_counts()/y.shape[0]\n",
        "    entropy = np.sum(-a*np.log2(a+1e-9))\n",
        "    return(entropy)\n",
        "\n",
        "  else:\n",
        "    raise('Object must be a Pandas Series.')\n",
        "\n",
        "entropy(data.Gender)"
      ],
      "metadata": {
        "colab": {
          "base_uri": "https://localhost:8080/"
        },
        "id": "bYCvTBzuU_em",
        "outputId": "f50fb370-7f9a-4f93-fae6-6c9527a8eac5"
      },
      "execution_count": 29,
      "outputs": [
        {
          "output_type": "execute_result",
          "data": {
            "text/plain": [
              "0.9709505915692787"
            ]
          },
          "metadata": {},
          "execution_count": 29
        }
      ]
    }
  ]
}