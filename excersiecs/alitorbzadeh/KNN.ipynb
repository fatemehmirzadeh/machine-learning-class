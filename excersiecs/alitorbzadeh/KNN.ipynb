{
  "nbformat": 4,
  "nbformat_minor": 0,
  "metadata": {
    "colab": {
      "name": "KNN.ipynb",
      "provenance": [],
      "toc_visible": true
    },
    "kernelspec": {
      "name": "python3",
      "display_name": "Python 3"
    },
    "language_info": {
      "name": "python"
    }
  },
  "cells": [
    {
      "cell_type": "code",
      "source": [
        "import random"
      ],
      "metadata": {
        "id": "0D29pWoPYBEd"
      },
      "execution_count": 4,
      "outputs": []
    },
    {
      "cell_type": "code",
      "source": [
        "num=[]\n",
        "\n",
        "for x in range(1,50):\n",
        "  num.append(x)\n",
        "w=3\n",
        "h=100\n",
        "data=[[0 for x in range(w)] for y in range(h)]\n",
        "\n",
        "for x in range(0,99):\n",
        "  data[x][0]=random.choice(num)\n",
        "  data[x][1]=random.choice(num)\n",
        "print(\"43:\",data[43])\n",
        "\n",
        "for x in range(0,99):\n",
        "  data[x][2]=(data[43][0]-(data[x][0])^2)+(data[43][1]-(data[x][0])^2)\n",
        "  data=sorted(data,key=lambda x:x[2])\n",
        "\n",
        "print(\"[\",data[0][0],\"][\",data[0][1],\"]\")\n",
        "print(\"[\",data[1][0],\"][\",data[1][1],\"]\")\n",
        "print(\"[\",data[2][0],\"][\",data[2][1],\"]\")"
      ],
      "metadata": {
        "colab": {
          "base_uri": "https://localhost:8080/"
        },
        "id": "L8Ao3MFvYseb",
        "outputId": "d526bc28-3c4d-44f7-9722-b02ab3821cb5"
      },
      "execution_count": 7,
      "outputs": [
        {
          "output_type": "stream",
          "name": "stdout",
          "text": [
            "43: [19, 36, 0]\n",
            "[ 47 ][ 28 ]\n",
            "[ 47 ][ 41 ]\n",
            "[ 36 ][ 38 ]\n"
          ]
        }
      ]
    }
  ]
}