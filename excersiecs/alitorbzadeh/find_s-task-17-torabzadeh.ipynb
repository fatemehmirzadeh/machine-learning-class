{
  "nbformat": 4,
  "nbformat_minor": 0,
  "metadata": {
    "colab": {
      "name": "find-s.ipynb",
      "provenance": []
    },
    "kernelspec": {
      "name": "python3",
      "display_name": "Python 3"
    },
    "language_info": {
      "name": "python"
    }
  },
  "cells": [
    {
      "cell_type": "code",
      "source": [
        "def myFindS(data, arributeCount, exampleCount):\n",
        "    h = ['null', 'null', 'null']\n",
        "    print(\"h[0] : \", h)\n",
        "    for i in range(exampleCount):\n",
        "                  if data[ i ][ arributeCount -1 ] == 'yes':\n",
        "                         for j in range(arributeCount - 1):\n",
        "                                      if h[j] == 'null':\n",
        "                                              h[j] = data[i][j]\n",
        "                                      elif h[j] != data[i][j]:\n",
        "                                              h[j] = '?'\n",
        "                  print(\"h[\", i+1, \"] : \", h)\n",
        "arributeCount = 4\n",
        "exampleCount = 5\n",
        "myData = [ ['big', 'red', 'circle', 'no'], ['small', 'red', 'triangle',\n",
        "'no'],['small', 'red', 'circle', 'yes'],['big', 'blue', 'circle', 'no'],['small',\n",
        "'blue', 'circle', 'yes'] ]\n",
        "myFindS(myData, arributeCount, exampleCount)  \n",
        "\n"
      ],
      "metadata": {
        "colab": {
          "base_uri": "https://localhost:8080/"
        },
        "id": "Vn44EkFuXUn-",
        "outputId": "b7f49bb0-81f8-48f4-e523-0c989d97dfd5"
      },
      "execution_count": 30,
      "outputs": [
        {
          "output_type": "stream",
          "name": "stdout",
          "text": [
            "h[0] :  ['null', 'null', 'null']\n",
            "h[ 1 ] :  ['null', 'null', 'null']\n",
            "h[ 2 ] :  ['null', 'null', 'null']\n",
            "h[ 3 ] :  ['small', 'red', 'circle']\n",
            "h[ 4 ] :  ['small', 'red', 'circle']\n",
            "h[ 5 ] :  ['small', '?', 'circle']\n"
          ]
        }
      ]
    }
  ]
}
