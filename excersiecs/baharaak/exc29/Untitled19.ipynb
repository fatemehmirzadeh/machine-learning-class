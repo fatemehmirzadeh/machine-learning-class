{
  "nbformat": 4,
  "nbformat_minor": 0,
  "metadata": {
    "colab": {
      "name": "Untitled19.ipynb",
      "provenance": []
    },
    "kernelspec": {
      "name": "python3",
      "display_name": "Python 3"
    },
    "language_info": {
      "name": "python"
    }
  },
  "cells": [
    {
      "cell_type": "code",
      "execution_count": 1,
      "metadata": {
        "colab": {
          "base_uri": "https://localhost:8080/"
        },
        "id": "hP-oLoRYdVce",
        "outputId": "1056d1a2-ad55-4d28-8d13-947cec3fb2e5"
      },
      "outputs": [
        {
          "output_type": "stream",
          "name": "stdout",
          "text": [
            "Collecting wordcloud-fa\n",
            "  Downloading wordcloud_fa-0.1.8.tar.gz (76 kB)\n",
            "\u001b[?25l\r\u001b[K     |████▎                           | 10 kB 18.6 MB/s eta 0:00:01\r\u001b[K     |████████▋                       | 20 kB 23.8 MB/s eta 0:00:01\r\u001b[K     |█████████████                   | 30 kB 24.4 MB/s eta 0:00:01\r\u001b[K     |█████████████████▏              | 40 kB 14.5 MB/s eta 0:00:01\r\u001b[K     |█████████████████████▌          | 51 kB 6.0 MB/s eta 0:00:01\r\u001b[K     |█████████████████████████▉      | 61 kB 6.4 MB/s eta 0:00:01\r\u001b[K     |██████████████████████████████  | 71 kB 5.9 MB/s eta 0:00:01\r\u001b[K     |████████████████████████████████| 76 kB 2.7 MB/s \n",
            "\u001b[?25hRequirement already satisfied: numpy>=1.18.1 in /usr/local/lib/python3.7/dist-packages (from wordcloud-fa) (1.19.5)\n",
            "Requirement already satisfied: pillow>=7.0.0 in /usr/local/lib/python3.7/dist-packages (from wordcloud-fa) (7.1.2)\n",
            "Requirement already satisfied: matplotlib>=3.1.2 in /usr/local/lib/python3.7/dist-packages (from wordcloud-fa) (3.2.2)\n",
            "Collecting arabic_reshaper\n",
            "  Downloading arabic_reshaper-2.1.3-py3-none-any.whl (20 kB)\n",
            "Collecting python-bidi>=0.4.2\n",
            "  Downloading python_bidi-0.4.2-py2.py3-none-any.whl (30 kB)\n",
            "Collecting wordcloud==1.7.0\n",
            "  Downloading wordcloud-1.7.0-cp37-cp37m-manylinux1_x86_64.whl (364 kB)\n",
            "\u001b[K     |████████████████████████████████| 364 kB 17.9 MB/s \n",
            "\u001b[?25hCollecting hazm\n",
            "  Downloading hazm-0.7.0-py3-none-any.whl (316 kB)\n",
            "\u001b[K     |████████████████████████████████| 316 kB 51.1 MB/s \n",
            "\u001b[?25hRequirement already satisfied: python-dateutil>=2.1 in /usr/local/lib/python3.7/dist-packages (from matplotlib>=3.1.2->wordcloud-fa) (2.8.2)\n",
            "Requirement already satisfied: cycler>=0.10 in /usr/local/lib/python3.7/dist-packages (from matplotlib>=3.1.2->wordcloud-fa) (0.11.0)\n",
            "Requirement already satisfied: pyparsing!=2.0.4,!=2.1.2,!=2.1.6,>=2.0.1 in /usr/local/lib/python3.7/dist-packages (from matplotlib>=3.1.2->wordcloud-fa) (3.0.6)\n",
            "Requirement already satisfied: kiwisolver>=1.0.1 in /usr/local/lib/python3.7/dist-packages (from matplotlib>=3.1.2->wordcloud-fa) (1.3.2)\n",
            "Requirement already satisfied: six in /usr/local/lib/python3.7/dist-packages (from python-bidi>=0.4.2->wordcloud-fa) (1.15.0)\n",
            "Requirement already satisfied: setuptools in /usr/local/lib/python3.7/dist-packages (from arabic_reshaper->wordcloud-fa) (57.4.0)\n",
            "Requirement already satisfied: future in /usr/local/lib/python3.7/dist-packages (from arabic_reshaper->wordcloud-fa) (0.16.0)\n",
            "Collecting nltk==3.3\n",
            "  Downloading nltk-3.3.0.zip (1.4 MB)\n",
            "\u001b[K     |████████████████████████████████| 1.4 MB 37.6 MB/s \n",
            "\u001b[?25hCollecting libwapiti>=0.2.1\n",
            "  Downloading libwapiti-0.2.1.tar.gz (233 kB)\n",
            "\u001b[K     |████████████████████████████████| 233 kB 53.6 MB/s \n",
            "\u001b[?25hBuilding wheels for collected packages: wordcloud-fa, nltk, libwapiti\n",
            "  Building wheel for wordcloud-fa (setup.py) ... \u001b[?25l\u001b[?25hdone\n",
            "  Created wheel for wordcloud-fa: filename=wordcloud_fa-0.1.8-py3-none-any.whl size=71015 sha256=8999589c769c6376a6427dd425a49757a304da9cf2efdf77beeac606a89165ad\n",
            "  Stored in directory: /root/.cache/pip/wheels/ae/a0/f3/81d930500493324929d26658e5a3ccff5ccc8644131ad1aadc\n",
            "  Building wheel for nltk (setup.py) ... \u001b[?25l\u001b[?25hdone\n",
            "  Created wheel for nltk: filename=nltk-3.3-py3-none-any.whl size=1394485 sha256=113f2b18c75e9afc91f94d8f39b220a6f4cf36d22f1a22023ffcc2deccb9ef9d\n",
            "  Stored in directory: /root/.cache/pip/wheels/9b/fd/0c/d92302c876e5de87ebd7fc0979d82edb93e2d8d768bf71fac4\n",
            "  Building wheel for libwapiti (setup.py) ... \u001b[?25l\u001b[?25hdone\n",
            "  Created wheel for libwapiti: filename=libwapiti-0.2.1-cp37-cp37m-linux_x86_64.whl size=154686 sha256=dfe3dd7e095d34e5226e8f0e8e144fa5771ef8e13b083f9ddb7ca416836dabde\n",
            "  Stored in directory: /root/.cache/pip/wheels/ab/b2/5b/0fe4b8f5c0e65341e8ea7bb3f4a6ebabfe8b1ac31322392dbf\n",
            "Successfully built wordcloud-fa nltk libwapiti\n",
            "Installing collected packages: nltk, libwapiti, wordcloud, python-bidi, hazm, arabic-reshaper, wordcloud-fa\n",
            "  Attempting uninstall: nltk\n",
            "    Found existing installation: nltk 3.2.5\n",
            "    Uninstalling nltk-3.2.5:\n",
            "      Successfully uninstalled nltk-3.2.5\n",
            "  Attempting uninstall: wordcloud\n",
            "    Found existing installation: wordcloud 1.5.0\n",
            "    Uninstalling wordcloud-1.5.0:\n",
            "      Successfully uninstalled wordcloud-1.5.0\n",
            "Successfully installed arabic-reshaper-2.1.3 hazm-0.7.0 libwapiti-0.2.1 nltk-3.3 python-bidi-0.4.2 wordcloud-1.7.0 wordcloud-fa-0.1.8\n"
          ]
        }
      ],
      "source": [
        "!pip3 install wordcloud-fa"
      ]
    },
    {
      "cell_type": "code",
      "source": [
        "from wordcloud_fa import WordCloudFa\n",
        "wc = WordCloudFa()\n",
        "\n",
        "with open('news.txt', 'r') as file:\n",
        "    text = file.read()\n",
        "\n",
        "    wc = WordCloudFa(width=1000, height=600)\n",
        "    wc = WordCloudFa(background_color=\"blue\")\n",
        "\n",
        "word_cloud = wc.generate(text)\n",
        "\n",
        "image = word_cloud.to_image()\n",
        "image.show()"
      ],
      "metadata": {
        "id": "jJietm7wdqMd"
      },
      "execution_count": 54,
      "outputs": []
    },
    {
      "cell_type": "code",
      "source": [
        "image.save('news.png')"
      ],
      "metadata": {
        "id": "qgPEbMm_fLDL"
      },
      "execution_count": 55,
      "outputs": []
    }
  ]
}