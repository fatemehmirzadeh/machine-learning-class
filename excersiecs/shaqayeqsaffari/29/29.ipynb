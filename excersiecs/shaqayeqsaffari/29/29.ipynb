{
  "nbformat": 4,
  "nbformat_minor": 0,
  "metadata": {
    "colab": {
      "name": "29.ipynb",
      "provenance": [],
      "collapsed_sections": []
    },
    "kernelspec": {
      "name": "python3",
      "display_name": "Python 3"
    },
    "language_info": {
      "name": "python"
    }
  },
  "cells": [
    {
      "cell_type": "markdown",
      "source": [
        "\n",
        "<div dir=\"rtl\">\n",
        "\n",
        "**بعد حذف استوپ وورد های اماده شده توسط شما(حدودا ۱۰ تا از علامتاهم بهش اضافه کردم وگرنه ابرم بد میشد) از دیتاست نهایی ابر برای کل خبرا تولید میکند **<br/>\n",
        "عکس حاصل با نام\n",
        "masked-example.png\n",
        " </div>\n",
        "  "
      ],
      "metadata": {
        "id": "Uk1IPuhYT0VJ"
      }
    },
    {
      "cell_type": "code",
      "source": [
        "!pip3 install wordcloud-fa"
      ],
      "metadata": {
        "colab": {
          "base_uri": "https://localhost:8080/"
        },
        "id": "Tz-AmAxq5PaW",
        "outputId": "64f867ea-0495-477a-eb06-67ead225893c"
      },
      "execution_count": 2,
      "outputs": [
        {
          "output_type": "stream",
          "name": "stdout",
          "text": [
            "Collecting wordcloud-fa\n",
            "  Downloading wordcloud_fa-0.1.8.tar.gz (76 kB)\n",
            "\u001b[?25l\r\u001b[K     |████▎                           | 10 kB 27.7 MB/s eta 0:00:01\r\u001b[K     |████████▋                       | 20 kB 12.9 MB/s eta 0:00:01\r\u001b[K     |█████████████                   | 30 kB 9.5 MB/s eta 0:00:01\r\u001b[K     |█████████████████▏              | 40 kB 8.7 MB/s eta 0:00:01\r\u001b[K     |█████████████████████▌          | 51 kB 5.0 MB/s eta 0:00:01\r\u001b[K     |█████████████████████████▉      | 61 kB 5.2 MB/s eta 0:00:01\r\u001b[K     |██████████████████████████████  | 71 kB 5.4 MB/s eta 0:00:01\r\u001b[K     |████████████████████████████████| 76 kB 2.7 MB/s \n",
            "\u001b[?25hRequirement already satisfied: numpy>=1.18.1 in /usr/local/lib/python3.7/dist-packages (from wordcloud-fa) (1.19.5)\n",
            "Requirement already satisfied: pillow>=7.0.0 in /usr/local/lib/python3.7/dist-packages (from wordcloud-fa) (7.1.2)\n",
            "Requirement already satisfied: matplotlib>=3.1.2 in /usr/local/lib/python3.7/dist-packages (from wordcloud-fa) (3.2.2)\n",
            "Collecting arabic_reshaper\n",
            "  Downloading arabic_reshaper-2.1.3-py3-none-any.whl (20 kB)\n",
            "Collecting python-bidi>=0.4.2\n",
            "  Downloading python_bidi-0.4.2-py2.py3-none-any.whl (30 kB)\n",
            "Collecting wordcloud==1.7.0\n",
            "  Downloading wordcloud-1.7.0-cp37-cp37m-manylinux1_x86_64.whl (364 kB)\n",
            "\u001b[K     |████████████████████████████████| 364 kB 11.3 MB/s \n",
            "\u001b[?25hCollecting hazm\n",
            "  Downloading hazm-0.7.0-py3-none-any.whl (316 kB)\n",
            "\u001b[K     |████████████████████████████████| 316 kB 63.5 MB/s \n",
            "\u001b[?25hRequirement already satisfied: cycler>=0.10 in /usr/local/lib/python3.7/dist-packages (from matplotlib>=3.1.2->wordcloud-fa) (0.11.0)\n",
            "Requirement already satisfied: pyparsing!=2.0.4,!=2.1.2,!=2.1.6,>=2.0.1 in /usr/local/lib/python3.7/dist-packages (from matplotlib>=3.1.2->wordcloud-fa) (3.0.6)\n",
            "Requirement already satisfied: kiwisolver>=1.0.1 in /usr/local/lib/python3.7/dist-packages (from matplotlib>=3.1.2->wordcloud-fa) (1.3.2)\n",
            "Requirement already satisfied: python-dateutil>=2.1 in /usr/local/lib/python3.7/dist-packages (from matplotlib>=3.1.2->wordcloud-fa) (2.8.2)\n",
            "Requirement already satisfied: six in /usr/local/lib/python3.7/dist-packages (from python-bidi>=0.4.2->wordcloud-fa) (1.15.0)\n",
            "Requirement already satisfied: future in /usr/local/lib/python3.7/dist-packages (from arabic_reshaper->wordcloud-fa) (0.16.0)\n",
            "Requirement already satisfied: setuptools in /usr/local/lib/python3.7/dist-packages (from arabic_reshaper->wordcloud-fa) (57.4.0)\n",
            "Collecting nltk==3.3\n",
            "  Downloading nltk-3.3.0.zip (1.4 MB)\n",
            "\u001b[K     |████████████████████████████████| 1.4 MB 40.2 MB/s \n",
            "\u001b[?25hCollecting libwapiti>=0.2.1\n",
            "  Downloading libwapiti-0.2.1.tar.gz (233 kB)\n",
            "\u001b[K     |████████████████████████████████| 233 kB 54.4 MB/s \n",
            "\u001b[?25hBuilding wheels for collected packages: wordcloud-fa, nltk, libwapiti\n",
            "  Building wheel for wordcloud-fa (setup.py) ... \u001b[?25l\u001b[?25hdone\n",
            "  Created wheel for wordcloud-fa: filename=wordcloud_fa-0.1.8-py3-none-any.whl size=71015 sha256=f371e58774edc07bb3aed9fafd5e553571edc02fa52a469619582d155292e060\n",
            "  Stored in directory: /root/.cache/pip/wheels/ae/a0/f3/81d930500493324929d26658e5a3ccff5ccc8644131ad1aadc\n",
            "  Building wheel for nltk (setup.py) ... \u001b[?25l\u001b[?25hdone\n",
            "  Created wheel for nltk: filename=nltk-3.3-py3-none-any.whl size=1394484 sha256=ef75006f680f60c5529aa28c2f7fb0221470923c946834d5d03a6004b2807fbb\n",
            "  Stored in directory: /root/.cache/pip/wheels/9b/fd/0c/d92302c876e5de87ebd7fc0979d82edb93e2d8d768bf71fac4\n",
            "  Building wheel for libwapiti (setup.py) ... \u001b[?25l\u001b[?25hdone\n",
            "  Created wheel for libwapiti: filename=libwapiti-0.2.1-cp37-cp37m-linux_x86_64.whl size=154234 sha256=494d399b0fcd7c21546e568ecf1ca07526686d71aaf793cb75e4d0199284bd2f\n",
            "  Stored in directory: /root/.cache/pip/wheels/ab/b2/5b/0fe4b8f5c0e65341e8ea7bb3f4a6ebabfe8b1ac31322392dbf\n",
            "Successfully built wordcloud-fa nltk libwapiti\n",
            "Installing collected packages: nltk, libwapiti, wordcloud, python-bidi, hazm, arabic-reshaper, wordcloud-fa\n",
            "  Attempting uninstall: nltk\n",
            "    Found existing installation: nltk 3.2.5\n",
            "    Uninstalling nltk-3.2.5:\n",
            "      Successfully uninstalled nltk-3.2.5\n",
            "  Attempting uninstall: wordcloud\n",
            "    Found existing installation: wordcloud 1.5.0\n",
            "    Uninstalling wordcloud-1.5.0:\n",
            "      Successfully uninstalled wordcloud-1.5.0\n",
            "Successfully installed arabic-reshaper-2.1.3 hazm-0.7.0 libwapiti-0.2.1 nltk-3.3 python-bidi-0.4.2 wordcloud-1.7.0 wordcloud-fa-0.1.8\n"
          ]
        }
      ]
    },
    {
      "cell_type": "code",
      "source": [
        "\n",
        "   \n",
        "from wordcloud_fa import WordCloudFa\n",
        "import numpy as np\n",
        "from PIL import Image\n",
        "\n",
        "mask = np.array(Image.open(\"/content/cloud.png\"))\n",
        "\n",
        "\n",
        "with open('/content/stop-words.txt', \"r\", encoding=\"utf-8\") as word_list:\n",
        "  words = word_list.read().split('\\n')\n",
        "words.append(\"\\u200c\")\n",
        "words.append(\"\\u200f\")\n",
        "digits = [0, 1, 2, 3, 4, 5, 6, 7, 8, 9]\n",
        "en = ['C','V','B','N','M','Q','W','E','R','T','Y','U','I','O','P','A','S','D','F','G','H','J','K','L','Z','X','q', 'w','e','r','t','y','u','i','o','p','a','s','d','f','g','h','j','k','l','z','x','c','v','b','n','m']\n",
        "for q in digits:\n",
        "  words.append(str(q))\n",
        "for e in en:\n",
        "  words.append(e)\n",
        "words=set(words)\n",
        "\n",
        "wodcloud = WordCloudFa(persian_normalize=False, include_numbers=False,collocations=False, background_color=\"white\", mask=mask, max_words=50, no_reshape=False, stopwords=words)\n",
        "\n",
        "\n",
        "text = \"\"\n",
        "with open('/content/news_data.txt', 'r') as file:\n",
        "    \n",
        "    text = file.read()\n",
        "wc = wodcloud.generate(text)\n",
        "image = wc.to_image()\n",
        "image.show()\n",
        "image.save('masked-example.png')"
      ],
      "metadata": {
        "id": "N1GIYAyQLhqu"
      },
      "execution_count": 33,
      "outputs": []
    },
    {
      "cell_type": "markdown",
      "source": [
        "<div dir=\"rtl\">\n",
        "\n",
        "**  ابر برای تک تک خبرا از اولین خبر تا اخرین خبر از دیتاست نیوز تولید میکند**\n",
        "\n",
        "<br/>\n",
        "به دلیل حجم بالا سه نمونه عکس حاصل از دو خبر اول و یک خبر سطراخر با نام<br/>\n",
        "masked-example0.png<br/>\n",
        "masked-example1.png<br/>\n",
        "masked-example220.png<br/>\n",
        "</div>"
      ],
      "metadata": {
        "id": "Y6_w4-GfSKt5"
      }
    },
    {
      "cell_type": "code",
      "source": [
        "\n",
        "import matplotlib as plt\n",
        "from google.colab.patches import cv2_imshow \n",
        "import cv2\n",
        "from wordcloud_fa import WordCloudFa\n",
        "import numpy as np\n",
        "from PIL import Image\n",
        "\n",
        "mask = np.array(Image.open(\"/content/cloud.png\"))\n",
        "\n",
        "with open('/content/stop-words.txt', \"r\", encoding=\"utf-8\") as word_list:\n",
        "  words = word_list.read().split('\\n')\n",
        "words.append(\"\\u200c\")\n",
        "words.append(\"\\u200f\")\n",
        "digits = [0, 1, 2, 3, 4, 5, 6, 7, 8, 9]\n",
        "en = ['C','V','B','N','M','Q','W','E','R','T','Y','U','I','O','P','A','S','D','F','G','H','J','K','L','Z','X','q', 'w','e','r','t','y','u','i','o','p','a','s','d','f','g','h','j','k','l','z','x','c','v','b','n','m']\n",
        "for q in digits:\n",
        "  words.append(str(q))\n",
        "for e in en:\n",
        "  words.append(e)\n",
        "words=set(words)\n",
        "\n",
        "wodcloud = WordCloudFa(persian_normalize=False, include_numbers=False,collocations=False, background_color=\"white\", mask=mask, no_reshape=False, stopwords=words)\n",
        "\n",
        "t=[]\n",
        "text = \"\"\n",
        "with open('/content/news_data.txt', 'r') as file:\n",
        "    for lines in file:\n",
        "      text = lines\n",
        "      t.append(lines)\n",
        "u=0\n",
        "for i in t:\n",
        "    wc = wodcloud.generate(i)\n",
        "    image = wc.to_image()\n",
        "    image.save('masked-example{}.png'.format(str(u)))\n",
        "    u=u+1"
      ],
      "metadata": {
        "id": "fZpZsnlOOIQx"
      },
      "execution_count": 32,
      "outputs": []
    }
  ]
}