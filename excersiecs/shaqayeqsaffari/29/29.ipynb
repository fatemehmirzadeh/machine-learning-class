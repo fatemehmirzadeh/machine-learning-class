{
  "nbformat": 4,
  "nbformat_minor": 0,
  "metadata": {
    "colab": {
      "name": "Untitled34.ipynb",
      "provenance": [],
      "collapsed_sections": []
    },
    "kernelspec": {
      "name": "python3",
      "display_name": "Python 3"
    },
    "language_info": {
      "name": "python"
    }
  },
  "cells": [
    {
      "cell_type": "markdown",
      "source": [
        "\n",
        "<div dir=\"rtl\">\n",
        "\n",
        "**یک ابر برای کل خبرا**<br/>\n",
        "عکس حاصل با نام\n",
        "masked-example.png\n",
        " </div>\n",
        "  "
      ],
      "metadata": {
        "id": "Uk1IPuhYT0VJ"
      }
    },
    {
      "cell_type": "code",
      "source": [
        "!pip3 install wordcloud-fa"
      ],
      "metadata": {
        "colab": {
          "base_uri": "https://localhost:8080/"
        },
        "id": "Tz-AmAxq5PaW",
        "outputId": "ab5f3641-87f1-4bd1-dfd6-9b9121cf8154"
      },
      "execution_count": 31,
      "outputs": [
        {
          "output_type": "stream",
          "name": "stdout",
          "text": [
            "Requirement already satisfied: wordcloud-fa in /usr/local/lib/python3.7/dist-packages (0.1.8)\n",
            "Requirement already satisfied: python-bidi>=0.4.2 in /usr/local/lib/python3.7/dist-packages (from wordcloud-fa) (0.4.2)\n",
            "Requirement already satisfied: hazm in /usr/local/lib/python3.7/dist-packages (from wordcloud-fa) (0.7.0)\n",
            "Requirement already satisfied: wordcloud==1.7.0 in /usr/local/lib/python3.7/dist-packages (from wordcloud-fa) (1.7.0)\n",
            "Requirement already satisfied: arabic-reshaper in /usr/local/lib/python3.7/dist-packages (from wordcloud-fa) (2.1.3)\n",
            "Requirement already satisfied: numpy>=1.18.1 in /usr/local/lib/python3.7/dist-packages (from wordcloud-fa) (1.19.5)\n",
            "Requirement already satisfied: pillow>=7.0.0 in /usr/local/lib/python3.7/dist-packages (from wordcloud-fa) (7.1.2)\n",
            "Requirement already satisfied: matplotlib>=3.1.2 in /usr/local/lib/python3.7/dist-packages (from wordcloud-fa) (3.2.2)\n",
            "Requirement already satisfied: python-dateutil>=2.1 in /usr/local/lib/python3.7/dist-packages (from matplotlib>=3.1.2->wordcloud-fa) (2.8.2)\n",
            "Requirement already satisfied: cycler>=0.10 in /usr/local/lib/python3.7/dist-packages (from matplotlib>=3.1.2->wordcloud-fa) (0.11.0)\n",
            "Requirement already satisfied: pyparsing!=2.0.4,!=2.1.2,!=2.1.6,>=2.0.1 in /usr/local/lib/python3.7/dist-packages (from matplotlib>=3.1.2->wordcloud-fa) (3.0.6)\n",
            "Requirement already satisfied: kiwisolver>=1.0.1 in /usr/local/lib/python3.7/dist-packages (from matplotlib>=3.1.2->wordcloud-fa) (1.3.2)\n",
            "Requirement already satisfied: six in /usr/local/lib/python3.7/dist-packages (from python-bidi>=0.4.2->wordcloud-fa) (1.15.0)\n",
            "Requirement already satisfied: future in /usr/local/lib/python3.7/dist-packages (from arabic-reshaper->wordcloud-fa) (0.16.0)\n",
            "Requirement already satisfied: setuptools in /usr/local/lib/python3.7/dist-packages (from arabic-reshaper->wordcloud-fa) (57.4.0)\n",
            "Requirement already satisfied: libwapiti>=0.2.1 in /usr/local/lib/python3.7/dist-packages (from hazm->wordcloud-fa) (0.2.1)\n",
            "Requirement already satisfied: nltk==3.3 in /usr/local/lib/python3.7/dist-packages (from hazm->wordcloud-fa) (3.3)\n"
          ]
        }
      ]
    },
    {
      "cell_type": "code",
      "source": [
        "\n",
        "   \n",
        "from wordcloud_fa import WordCloudFa\n",
        "import numpy as np\n",
        "from PIL import Image\n",
        "\n",
        "mask = np.array(Image.open(\"//content/images.jpeg\"))\n",
        "\n",
        "wodcloud = WordCloudFa(persian_normalize=False, include_numbers=False, background_color=\"white\", mask=mask, no_reshape=False)\n",
        "\n",
        "\n",
        "text = \"\"\n",
        "with open('/content/news_data.txt', 'r') as file:\n",
        "    \n",
        "    text = file.read()\n",
        "wc = wodcloud.generate(text)\n",
        "image = wc.to_image()\n",
        "image.show()\n",
        "image.save('masked-example.png')"
      ],
      "metadata": {
        "id": "N1GIYAyQLhqu"
      },
      "execution_count": 40,
      "outputs": []
    },
    {
      "cell_type": "markdown",
      "source": [
        "<div dir=\"rtl\">\n",
        "\n",
        "**ابر برای تک تک خبرا**\n",
        "\n",
        "<br/>\n",
        "به دلیل حجم بالا سه نمونه عکس حاصل از دو خبر اول و یک خبر سطراخر با نام<br/>\n",
        "masked-example0.png<br/>\n",
        "masked-example1.png<br/>\n",
        "masked-example220.png<br/>\n",
        "</div>"
      ],
      "metadata": {
        "id": "Y6_w4-GfSKt5"
      }
    },
    {
      "cell_type": "code",
      "source": [
        "\n",
        "import matplotlib as plt\n",
        "from google.colab.patches import cv2_imshow \n",
        "import cv2\n",
        "from wordcloud_fa import WordCloudFa\n",
        "import numpy as np\n",
        "from PIL import Image\n",
        "\n",
        "mask = np.array(Image.open(\"/content/images.jpeg\"))\n",
        "\n",
        "wodcloud = WordCloudFa(persian_normalize=False, include_numbers=False, background_color=\"white\", mask=mask, no_reshape=False)\n",
        "\n",
        "t=[]\n",
        "text = \"\"\n",
        "with open('/content/news_data.txt', 'r') as file:\n",
        "    for lines in file:\n",
        "      text = lines\n",
        "      t.append(lines)\n",
        "u=0\n",
        "for i in t:\n",
        "    wc = wodcloud.generate(i)\n",
        "    image = wc.to_image()\n",
        "    image.save('masked-example{}.png'.format(str(u)))\n",
        "    u=u+1"
      ],
      "metadata": {
        "id": "fZpZsnlOOIQx"
      },
      "execution_count": 41,
      "outputs": []
    }
  ]
}