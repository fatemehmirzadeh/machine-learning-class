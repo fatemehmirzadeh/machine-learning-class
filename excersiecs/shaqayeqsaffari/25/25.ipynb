{
  "nbformat": 4,
  "nbformat_minor": 0,
  "metadata": {
    "colab": {
      "name": "Untitled26.ipynb",
      "provenance": []
    },
    "kernelspec": {
      "name": "python3",
      "display_name": "Python 3"
    },
    "language_info": {
      "name": "python"
    }
  },
  "cells": [
    {
      "cell_type": "markdown",
      "source": [
        "<div dir=\"rtl\">\n",
        "  \n",
        "  ##  با کمک توابع رندوم در یک زبان برنامه نویسی روی یک صفحه ی مختصات دوبعدی 100 نقطه با x و yهای رندوم در بازه ی 1 تا 50 بدست آورید و برنامه ای بنویسید که k=3 را نسبت به 43 یا چهل و سومین نقطه ی تولید شده ی شما دارد.\n",
        "  </div>"
      ],
      "metadata": {
        "id": "GM5QqZtbIHZ-"
      }
    },
    {
      "cell_type": "code",
      "execution_count": 1,
      "metadata": {
        "colab": {
          "base_uri": "https://localhost:8080/"
        },
        "id": "KFu8jDDsGlDX",
        "outputId": "20c016cc-5829-410e-a760-097e3a846738"
      },
      "outputs": [
        {
          "output_type": "stream",
          "name": "stdout",
          "text": [
            "43 :  [16, 18, 0]\n",
            "[ 49 ][ 3 ]\n",
            "[ 49 ][ 31 ]\n",
            "[ 49 ][ 27 ]\n"
          ]
        }
      ],
      "source": [
        "import random \n",
        "import math\n",
        "def sortRowWise(m): \n",
        "  for i in range(len(m)):\n",
        "    for j in range(len(m[i])):\n",
        "      for k in range(len(m[i]) - j - 1):\n",
        "        if (m[i][k] > m[i][k + 1]):\n",
        "          t = m[i][k]\n",
        "          m[i][k] = m[i][k + 1] \n",
        "          m[i][k + 1] = t\n",
        "  return m \n",
        "myNumbers = [] \n",
        "for x in range(1,50):\n",
        "        myNumbers.append(x)\n",
        "w, h = 3, 100;\n",
        "myData = [[0 for x in range(w)] for y in range(h)]\n",
        "for x in range(0, 99):\n",
        "        myData[x][0] = random.choice(myNumbers) \n",
        "        myData[x][1] = random.choice(myNumbers)\n",
        "print(\"43 : \", myData[43])\n",
        "for x in range(0,99):\n",
        "        myData[x][2] = (myData[43][0]-(myData[x][0])^2) + (myData[43][1]-(myData[x][0])^2)\n",
        "myData = sorted(myData, key=lambda x: x[2])\n",
        "print(\"[\", myData[0][0], \"][\", myData[0][1], \"]\") \n",
        "print(\"[\", myData[1][0], \"][\", myData[1][1], \"]\") \n",
        "print(\"[\", myData[2][0], \"][\", myData[2][1], \"]\")"
      ]
    }
  ]
}