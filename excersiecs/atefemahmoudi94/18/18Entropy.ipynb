{
  "nbformat": 4,
  "nbformat_minor": 0,
  "metadata": {
    "colab": {
      "name": "18Entropy.ipynb",
      "provenance": []
    },
    "kernelspec": {
      "name": "python3",
      "display_name": "Python 3"
    },
    "language_info": {
      "name": "python"
    }
  },
  "cells": [
    {
      "cell_type": "code",
      "execution_count": 5,
      "metadata": {
        "colab": {
          "base_uri": "https://localhost:8080/"
        },
        "id": "CXGal7T7Ohq2",
        "outputId": "d060a0f1-f320-4f7c-edc0-f47b47f1525c"
      },
      "outputs": [
        {
          "output_type": "stream",
          "name": "stdout",
          "text": [
            "0.5\n",
            "0.5\n",
            "1.0\n"
          ]
        }
      ],
      "source": [
        "import math\n",
        "def Entropy(Ppositive,Pnegative):\n",
        "  entropy=((-1)*(((Ppositive)*(math.log(Ppositive,(2)))) + ((Pnegative)*(math.log(Pnegative,(2))))))\n",
        "  print(entropy)\n",
        "Ppositive=float(input())\n",
        "Pnegative=float(input())\n",
        "Entropy(Ppositive,Pnegative)"
      ]
    }
  ]
}