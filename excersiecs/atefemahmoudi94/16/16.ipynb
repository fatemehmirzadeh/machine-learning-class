{
  "nbformat": 4,
  "nbformat_minor": 0,
  "metadata": {
    "colab": {
      "name": "16.ipynb",
      "provenance": []
    },
    "kernelspec": {
      "name": "python3",
      "display_name": "Python 3"
    },
    "language_info": {
      "name": "python"
    }
  },
  "cells": [
    {
      "cell_type": "code",
      "execution_count": 1,
      "metadata": {
        "colab": {
          "base_uri": "https://localhost:8080/"
        },
        "id": "Q0yWqV12B0Ty",
        "outputId": "9bd9563a-3b05-44b6-f76f-04a1051325b1"
      },
      "outputs": [
        {
          "output_type": "stream",
          "name": "stdout",
          "text": [
            "True\n",
            "False\n",
            "False\n",
            "True\n"
          ]
        }
      ],
      "source": [
        "def Ebarat2(A,B,C):\n",
        "  return True\n",
        "A=input()\n",
        "B=input()\n",
        "C=input()\n",
        "print(Ebarat2(A,B,C))\n"
      ]
    },
    {
      "cell_type": "code",
      "source": [
        "def Ebarat3(A,B,C,D):\n",
        "  if(((A==\"False\") and (B==\"True\") and (C==\"True\") and (D==\"True\")) or ((A==\"True\") and (B==\"False\") and (C==\"True\") and (D==\"True\"))):\n",
        "    print(\"True\")\n",
        "  else:\n",
        "    print(\"False\")\n",
        "A=input()\n",
        "B=input()\n",
        "C=input()\n",
        "D=input()\n",
        "Ebarat3(A,B,C,D)\n"
      ],
      "metadata": {
        "colab": {
          "base_uri": "https://localhost:8080/"
        },
        "id": "8WQaNgO0D9Qf",
        "outputId": "2180c1ae-ba06-4294-f4f0-00590e653c7b"
      },
      "execution_count": 3,
      "outputs": [
        {
          "output_type": "stream",
          "name": "stdout",
          "text": [
            "False\n",
            "True\n",
            "True\n",
            "True\n",
            "True\n"
          ]
        }
      ]
    },
    {
      "cell_type": "code",
      "source": [
        "def Ebarat1(A,B,C):\n",
        "  if(((A==\"False\") and (B==\"False\") and (C==\"False\")) or ((A==\"True\") and (B==\"False\") and (C==\"False\")) or ((A==True) and (B==\"True\") and (C==\"False\")) or ((A==\"True\") and (B==\"True\") and (C==\"True\"))):\n",
        "    print(\"True\")\n",
        "  else:\n",
        "    print(\"False\")\n",
        "A=input()\n",
        "B=input()\n",
        "C=input()\n",
        "Ebarat1(A,B,C)"
      ],
      "metadata": {
        "id": "ymklLax2HmIJ"
      },
      "execution_count": null,
      "outputs": []
    }
  ]
}