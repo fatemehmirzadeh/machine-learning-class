{
  "nbformat": 4,
  "nbformat_minor": 0,
  "metadata": {
    "colab": {
      "name": "15.ipynb",
      "provenance": [],
      "collapsed_sections": []
    },
    "kernelspec": {
      "name": "python3",
      "display_name": "Python 3"
    },
    "language_info": {
      "name": "python"
    }
  },
  "cells": [
    {
      "cell_type": "code",
      "execution_count": 12,
      "metadata": {
        "colab": {
          "base_uri": "https://localhost:8080/"
        },
        "id": "G5mL3H8ka3f9",
        "outputId": "ea11189a-40b4-4e49-d256-878d630004eb"
      },
      "outputs": [
        {
          "output_type": "stream",
          "name": "stdout",
          "text": [
            "False\n",
            "True\n",
            "False\n"
          ]
        }
      ],
      "source": [
        "\n",
        "num1=input()\n",
        "num2=input()\n",
        "def DTAnd(num1,num2):\n",
        "   if (num1==\"False\"):\n",
        "    print(\"False\")\n",
        "   else:\n",
        "     print(\"fuck\")\n",
        "     if(num2==\"False\"):\n",
        "      print(\"False\")\n",
        "     else:\n",
        "      print(\"true\")\n",
        "\n",
        "DTAnd(num1,num2)"
      ]
    },
    {
      "cell_type": "code",
      "source": [
        "\n",
        "def DTOr(numor1,numor2):\n",
        "  if(numor1==\"True\"):\n",
        "    print(\"True\")\n",
        "  else:\n",
        "    if(numor2==\"True\"):\n",
        "      print(\"True\")\n",
        "    else:\n",
        "      print(\"False\")\n",
        "\n",
        "\n",
        "numor1=input()\n",
        "numor2=input()\n",
        "DTOr(numor1,numor2)\n",
        "\n"
      ],
      "metadata": {
        "id": "Rwrx071XbBX3",
        "colab": {
          "base_uri": "https://localhost:8080/"
        },
        "outputId": "b6b86a01-4a9e-4666-ffbe-7cd1c44aa20e"
      },
      "execution_count": 11,
      "outputs": [
        {
          "output_type": "stream",
          "name": "stdout",
          "text": [
            "True\n",
            "True\n",
            "True\n"
          ]
        }
      ]
    },
    {
      "cell_type": "code",
      "source": [
        "def DTNot(numn1):\n",
        "  if(numn1==\"True\"):\n",
        "    print(\"False\")\n",
        "  else:\n",
        "    print(\"True\")\n",
        "\n",
        "numn1=input()\n",
        "DTNot(numn1)"
      ],
      "metadata": {
        "id": "oQyV_tF2Dfug"
      },
      "execution_count": null,
      "outputs": []
    },
    {
      "cell_type": "code",
      "source": [
        "numN1=input()\n",
        "numN2=input()\n",
        "def DTNand(numN1,numN2):\n",
        "   if (numN1==\"False\"):\n",
        "    print(\"True\")\n",
        "   else:\n",
        "     if(numN2==\"False\"):\n",
        "      print(\"True\")\n",
        "     else:\n",
        "      print(\"False\")\n",
        "\n",
        "DTNand(numN1,numN2)"
      ],
      "metadata": {
        "id": "bB2PwI1EGQWq"
      },
      "execution_count": null,
      "outputs": []
    },
    {
      "cell_type": "code",
      "source": [
        "def DTNor(numnor1,numnor2):\n",
        "  if(numnor1==\"True\"):\n",
        "    print(\"False\")\n",
        "  else:\n",
        "    if(numnor2==\"True\"):\n",
        "      print(\"False\")\n",
        "    else:\n",
        "      print(\"True\")\n",
        "\n",
        "\n",
        "numnor1=input()\n",
        "numnor2=input()\n",
        "DTNor(numnor1,numnor2)\n",
        "\n"
      ],
      "metadata": {
        "id": "BNL8kqL2Hbat"
      },
      "execution_count": null,
      "outputs": []
    },
    {
      "cell_type": "code",
      "source": [
        "def DTXOR(numx1,numx2):\n",
        "  if(((numx1==\"False\") and (numx2==\"True\")) or ((numx1==\"True\") and (numx2==\"False\")) ):\n",
        "    print(\"True\")\n",
        "  elif (((numx1==\"False\") and (numx2==\"False\")) or ((numx1==\"True\") and (numx2==\"True\"))) :\n",
        "    print(\"False\")\n",
        "\n",
        "numx1=input()\n",
        "numx2=input()\n",
        "DTXOR(numx1,numx2)\n"
      ],
      "metadata": {
        "id": "WPrkQVvRILgv"
      },
      "execution_count": null,
      "outputs": []
    }
  ]
}