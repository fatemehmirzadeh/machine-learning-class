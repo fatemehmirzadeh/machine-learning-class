{
  "nbformat": 4,
  "nbformat_minor": 0,
  "metadata": {
    "colab": {
      "name": "Untitled13.ipynb",
      "provenance": []
    },
    "kernelspec": {
      "name": "python3",
      "display_name": "Python 3"
    },
    "language_info": {
      "name": "python"
    }
  },
  "cells": [
    {
      "cell_type": "code",
      "source": [
        "import numpy as np\n",
        "import matplotlib.pyplot as plt\n",
        "import pandas as pd\n",
        "import seaborn as sb\n",
        "sb.set(style='dark')\n"
      ],
      "metadata": {
        "id": "kRsAlyLXFV1j"
      },
      "execution_count": 2,
      "outputs": []
    },
    {
      "cell_type": "code",
      "source": [
        "!head -n 100 sms_data.txt"
      ],
      "metadata": {
        "colab": {
          "base_uri": "https://localhost:8080/"
        },
        "id": "fh6b8eNQFXqr",
        "outputId": "cf69e12f-ba88-420b-c60c-796b0b013112"
      },
      "execution_count": 5,
      "outputs": [
        {
          "output_type": "stream",
          "name": "stdout",
          "text": [
            "﻿\"*سمنانِ مَن*پرداخت درون شهری –تاکسی شهری 14 ت 723 86 مبلغ : 30,000 ریالبرداشت از : کارت بانکی شهروندواریز به : محمدتقي نظريشناسه مرجع : 01FNNCDH0RRYJ0D8EZPBJVXARF1400/09/08 - 11:50\"\t\t\t\r\n",
            "کد تایید : 4657شهرداری سمنان\t\t\t\r\n",
            "گوشت گوسفندی تازه 83500برنج ایرانی 31999همبرگر 45%چای 35%دمپایی نیکتا 30%مایع ظرف 3750 پریل20%هایپرفامیلی سمنانامروزوفردا\t\t\t\r\n",
            "\"سرمایه‌گذاری در پرسودترین صندوق بدون ریسک کشور!رتبه 1 بازدهی در شهریورنماد ETF \"\"کامیاب\"\" از طریق سامانه آنلاین کارگزاریها:http://yelloadwise.ir/rtO2d2v\"\t\t\t\r\n",
            "شقابق سلاماز شما دعوت می‌کنیم در وبینار پرفورمنس مارکتینگ چیست با الهام احمدی مدیر تیم کمپین تپسل در روز دوشنبه 12 مهر ساعت 19 شرکت کنی.ثبت نام رایگان:https://eseminar.tv/wb37308\t\t\t\r\n",
            "\"دست خالی سفر نرو!!با یک جشنواره پر از جایزه ساکت رو ببند.«اتاقک»، سامانه اجاره روزانه ویلا وسوئیت!شروع از لینک زیر:http://yelloadwise.ir/Ggq4X0M\"\t\t\t\r\n",
            "فروش ویژه برای شروع کسب وکار تازه!دستگاه گلاب گیر و عرقیجات در «ویترین نت»؛ بازار آنلاین تجهیزات صنعتی⚡مشاوره تخصصی⚡ضمانت بازگشت وجه تا ۷ روزلینک: http://yelloadwise.ir/PaH7Bdd\t\t\t\r\n",
            "فقط در چارخونه😍🎬دوبله فارسی انیمیشن پرطرفدار«خانواده آدامز 2» داغ داغ رسید🍿yun.ir/udl5f1تماشای رایگان با اینترنت ایرانسل💛\t\t\t\r\n",
            "\"📢5گیگ فضای رایگان 6 ماهه!🎁«ابرتو»،فضای ذخیره سازی ابری باحجم های 100و1000 گیگ!💾 دانلود:lnk.amaroid.net/s/1FnQXQge\"\t\t\t\r\n",
            "\"با هر پرداخت در «آپ»، امتیاز و جایزه بگیرید!جشنواره پاییزه «آپ»:لینک: http://yelloadwise.ir/0q5gEhQ\"\t\t\t\r\n",
            "فقط تافردا تخفیف60%آیلتس-تافل-مکالمه-آلمانی-ترکی-ept ضمانت عودت=ارسال7\t\t\t\r\n",
            "برای خشکی پوستت توی پاییز چه فکری کردی؟محصولات معتبر و درجه یک رو با «سلین» از فروشگاه های سطح شهر تا ۶۰ درصد تخفیف بخر!لینک: http://yelloadwise.ir/9rajYKl\t\t\t\r\n",
            "درجشنواره 8سالگی افق کوروش باصرفه ترین های بازار را از ما بخواهید:Okcs.ir/18\t\t\t\r\n",
            "از سوپرمارکت خرید کن وتاسقف5 گیگ اینترنت رایگان هدیه بگیر!فقط از طریق سوپراپلیکیشن «ایرانسل من»:https://myirancell.irancell.ir/dl?44\t\t\t\r\n",
            "\"🎁 15هزارتومان جایزه، به همراه هدیه روز تولد متناسب با ورزش انتخابی شما در ایران اسپورتر، بزرگترین فروشگاه ورزشی کشور!🎁👇ثبت نام کنید:👇http://yelloadwise.ir/24aTvIM\"\t\t\t\r\n",
            "\"رژیم نگیر، کالری شماری کن!اپلیکیشن «کرفس»؛ محبوبترین کالری‌شمار فارسیه که بهت کمک می‌کنه خیلی راحت به وزن مطلوبت برسی.نصب کن: http://yelloadwise.ir/hv0vyv6\"\t\t\t\r\n",
            "وبينار آشنايي با رويداد استارتاپي بياتكامروز ساعت 19لينك ورود به جلسه:vc10.semnan.ac.ir/sustpپارك علم و فناوري دانشگاه سمنان\t\t\t\r\n",
            "لباس‌های چرک و چروکت رو توی سبد خشکشویی آنلاین «پاکلین» بریز!35% تخفیف هدیه اولین سفارش شما!کد تخفیف: HLPKLN35http://yelloadwise.ir/6gshXlq\t\t\t\r\n",
            "\"سرمایه ‌گذاری بدون ریسک در بورسحفظ اصل سرمایه و سود روزشمارصندوق ETF \"\"کامیاب\"\" از طریق سامانه آنلاین کارگزاریها:http://yelloadwise.ir/z9US1Hx\"\t\t\t\r\n",
            "\"ایرانسلی عزیز،«گپ فیلم» رو رایگان نصب کن، پلی استیشن 5 برنده شو!بدون خرید اشتراک نامحدود فیلم و سریال دانلود کن:http://yelloadwise.ir/4NJBAP4\"\t\t\t\r\n",
            "گرسنگی کشیدی و لاغر نشدی؟با «بنتو»؛ بدون گرسنگی و با ۶ وعده متنوع در طول روز می‌تونی به وزن ایده‌آلت برسی!لینک: http://yelloadwise.ir/pmgq55I\t\t\t\r\n",
            "\"مشاوره تغذیه با بهترین متخصصان سلامت، در اپلیکیشن «پزشکت»!فقط از طریق «ایرانسل‌من»:https://myirancell.irancell.ir/dl?141\"\t\t\t\r\n",
            "بیست و نهمین دوره هفته کتاب جمهوری اسلامی ایران گرامی باد.24 آبان لغایت 1 آذز ماه\t\t\t\r\n",
            "\"بهاره عزیز،دوست شما با شماره همراه 09380210896 وارد مسابقه شد و یک شانس دیگه برای بازی در گردونه شانس لوناتو بدست آورده اید.لوناتو\"\t\t\t\r\n",
            "\"واکسن، قلب و ریه ما را از حمله ویروس کرونا حفظ می کند.\"\t\t\t\r\n",
            "\"با ترغیب دیگران به واکسن زدن، جامعه خود را ایمن کنیم.\"\t\t\t\r\n",
            "فقط امروز فرصت باقیست!با شارژ حداقل 50 هزار تومنی کیف پول دیجیتال تا اخر ابان؛ برنده یک دستگاه PS5 شو.همراه با 2 گیگ اینترنت برای اولین شارژحداقل 10 هزار تومنی کیف پول.کد زیر را شماره گیری کن:*6*1#\t\t\t\r\n",
            "مشترک گرامی ! شما میتوانید برای خرید بسته های مکالمه و اینترنت متناسب با مصرف خود کد #۴۴۴۴* را شماره گیری نمایید.\t\t\t\r\n",
            "\"در هنگام تنظیم قرارداد به توانایی خود برای انجام تعهدات اطمینان داشته باشید، در غیر اینصورت به پرداخت خسارت به طرف مقابل محکوم می شوید.معاونت اجتماعی و پیشگیری از وقوع جرم قوه قضاییه\"\t\t\t\r\n",
            "فروش خودرو در ۴۵ دقیقه در «خودرو 45»!◀️ بدون واسطه◀️ دریافت آنی وجه نقد◀️ در شعب VIP◀️ کارشناسی تخصصی رایگانثبت درخواست:http://yelloadwise.ir/NN5traZ\t\t\t\r\n",
            "بدون اشتراک و رایگان تا بی نهایت فیلم ببین!http://sorenvhs.ir\t\t\t\r\n",
            "((فروش استثنایی جمعه سیاه در تاپ لرن))تخفیف 70درصدی ویژه BlackFriday بر روی همه ی دوره هاhttps://toplearn.com/TodayDiscounts\t\t\t\r\n",
            "\"پیشنهاد ماابرمیبارد،شجریان،210تسلیم،راغب،310زیبای بی‌احساس،خدری،223زندگی خودمه،صادقلو،974فعالسازی:ارسال کد به همین‌ شماره\"\t\t\t\r\n",
            "\"10 کارت هدیه اعتباری 3 میلیون تومانی برای 10 نفر!🎉💰💳فقط با پرداخت 26 هزارتومان، هم در قرعه کشی شرکت کن و هم به راحتی کلاس یا جلسه آنلاین تشکیل بده!ویژه مشترکان جدید «داناپلاس»!yun.ir/73n20d\"\t\t\t\r\n",
            "\"کاربر گرامی علی بابا۳ جایزه ۱۰ میلیونی اعتبار سفر متعلق به شماست، اگر اپلیکیشن را نصب و در آن لاگین کرده باشید!سفر بعدی را از اپلیکیشن علی بابا بگیرید تا شانستان در این قرعه کشی ۱۰ برابر شود.https://url.alib.ba/ridbqO\"\t\t\t\r\n",
            "می‌دانید در دوره کرونا چند نفر از شاغلان تعدیل شدند؟گزارش جاب‌ویژن از «تاثیر کرونا بر بازار کار» را رایگان دانلود کنید:http://yelloadwise.ir/DVYx0vc\t\t\t\r\n",
            "\"اسنپی عزیز،با شرکت در نظرسنجی زیر ما را در ارائه خدمات بهتر یاری رسانید و در قرعه کشی اعتبار ۵۰۰هزار تومانی اسنپ شرکت کنید.https://sfwlst3v1.questionpro.eu\"\t\t\t\r\n",
            "🎬 تماشای سریال جدید «چرخ زمان» در چارخونهبا دوبله فارسیyun.ir/p2qyxdرایگان با اینترنت ایرانسل\t\t\t\r\n",
            "بسته‌های داغ امروز ویژه شما!فعال‌سازی با شماره‌گیری:*4444*2#\t\t\t\r\n",
            "\"سلسله نشست‌های فرهنگی کانون طلوع   - دفتر ارتباطات فرهنگی موضوع: کورش و ذوالقرنینسخنران: جناب حجت الاسلام و المسلمین آقای دكتر سیدعلی حسنی، عضو هیئت علمی مؤسسه ‏آموزشی و پژوهشی امام خمینی(ره)‏ شنبه  1400/9/6 ساعت 16‏ مجازی  با ترافیک رایگان - رسانه شویدhttps://heyatonline.ir/heyat/3468\"\t\t\t\r\n",
            "G-347469 رمز تأیید Google شماست.\t\t\t\r\n",
            "اگه آیفون 12رو ببری چی؟!تنها امروز برای شرکت در قرعه‌کشی«باسلام» فرصت هست.هر۱۰۰هزار تومان=یک شانس در قرعه‌کشیhttp://yelloadwise.ir/csdHXtX\t\t\t\r\n",
            "از سفارشتان از اکالا راضی بودید؟!با شرکت در نظرسنجی زیر ما را در بهبود خدمات یاری کنید.https://feedback.okala.com/7/28416190\t\t\t\r\n",
            "\"ایرانسلی عزیز!🎉🍕🍔تا 90% تخفیف؛ جهت سفارش غذا از فودپارتی، ویژه «تهران» در «اسنپ فود»!فقط امروز!همین حالا سفارش دهید:https://myirancell.irancell.ir/dl?27\"\t\t\t\r\n",
            "۱ ساعت تا آغاز اختتامیه و جشن پنج سالگی جایزه بازی‌های جدی ۱۴۰۰مشاهده آنلاین رویداد از طریق آپارات:https://www.aparat.com/ircg/live\t\t\t\r\n",
            "دانشجو عزيز؛ ضروري است تا پايان آذر از طريق لينك:  https://portal.saorg.ir/mentalhealth وارد سامانه شده و نسبت به تكميل كارنامه سلامت روان اقدام نماييد.تلفن: 02331532025  02331532539اداره مشاوره\t\t\t\r\n",
            "پول بیکارت رو به کار بگیر!اپلیکیشن سرمایه‌گذاری «کیان دیجیتال»نصب کنید:http://yelloadwise.ir/yknktcC\t\t\t\r\n",
            "تا 50% تخفیف اکسسوری های ورزشی خاص از «رنگارنگ» به مناسبت جمعه سیاه!مشاهده و ثبت سفارش👇http://yelloadwise.ir/ls8peVn\t\t\t\r\n",
            "دوبله فارسی فیلم پرهیاهوی «ونوم2» داغ داغ رسید🍿فقط در «چارخونه»!yun.ir/baq4j8🌟تماشای رایگان با اینترنت ایرانسل🌟\t\t\t\r\n",
            "وبینار رایگان کسب نمره 6.5 آزمون آیلتس شروع شددکتر ترکاشوند:IELTS Managerدانشگاه بیرمنگام انگلستانورود:https://liveamooz.com/c659\t\t\t\r\n",
            "خریدتان ازافق‌کوروش را‌ ارزیابی و روزانه‌ یک ‌میلیون برنده شوید.لغو=offhttp://s.okcs.com/?s=2675&m=09377553744\t\t\t\r\n",
            "کاربر عزیزمحصولات دسته‌بندی ست لباس زیر زنانه هم‌اکنون با بهترین قیمت در 30 روز گذشته در دیجی‌کالا موجود است.بزن بریم:dgkl.me/D5_FUA\t\t\t\r\n",
            "\"بسته‌های داغ امروز، ویژه شما!مشاهده و فعال‌سازی:http://i3l.ir/g4rFXو یا شماره گیری کد: *4444*2#1.5 گيگ اينترنت روزانه 5900 تومان20 گيگ اينترنت هفتگي 40000 تومان22 گيگ اينترنت هفتگي 49900 تومان3 گيگ اينترنت روزانه 6500 تومان5 گيگ اينترنت روزانه 9000 تومان\"\t\t\t\r\n",
            "رسال رایگان شد! 🚚بهترین فرصت خرید از دیجی‌‌کالا به همراه ارسال رایگان رو از دست نده.برای سفارش بالای ۱۵۰ هزار تومانکد:  BF1400فقط امروز | جا نمونی:dgkl.me/EA8Cowلغو: ۱\t\t\t\r\n",
            "پخش زنده هفته سیزدهم لیگ برتر انگلیس از لنز اسپورت پلاسوستهم - منچسترسیتی امروز ساعت ۱۷:۳۰http://i3l.ir/60YBH\t\t\t\r\n",
            "اوکی\t\t\t\r\n",
            "پیش فروش بلیت قطار بازه ١ تا ٣٠ آذرماه شروع شد 🚅همراه با ٥ میلیون تومان جایزه نقدی امروزرزرو بلیت از آپ:i.asanpardakht.com/EizPGW\t\t\t\r\n",
            "رقابت داغ دربازیک!یک دستگاهPlayStation5 5گوشی هوشمند و جوایز دیگرفقط از ۱۵ شهریور تا ۱۵ مهراطلاعات بیشتر:http://biglyt.com/zqj5u\t\t\t\r\n",
            "پخش‌زنده لیگ‌ برتر 🔵استقلال ⚪️گل‌گهر ویژه برنامه با حضور پیشکسوتان باشگاه استقلالساعت ۱۵:۳۰ از کانال رسمی باشگاه استقلال در روبیکاhttps://go.rubika.ir/estghl\t\t\t\r\n",
            "\"مشترک اعتباری همراه اول شما تا کنون بسته هدیه 12 گیگابایت 180 روزه(هر ماه 2 گیگ) ویژه استفاده در ذره‌بین را دریافت نکرده‌اید، برای دریافت و فعال‌سازی رایگان تا ساعت 24:00 امشب به لینک زیر مراجعه کنید.app.zarebin.ir/a7xobfpپخش زنده فوتبال در وبگرد ذره‌بین:استقلال - گل‌گهر سیرجان 16:00پرسپولیس - نفت آبادان 18:00ذره‌بین؛ تجربه متفاوت وبگردی\"\t\t\t\r\n",
            "یک سال اینترنت رایگان با 724!با #724* شارژ بخر و در جشنواره پاییز برنده شو.هر 5 تراکنش 1 امتیاز\t\t\t\r\n",
            "\"کاربر گرامی علی بابا۳ جایزه ۱۰ میلیونی اعتبار سفر متعلق به شماست، اگر اپلیکیشن را نصب و در آن لاگین کرده باشید!سفر بعدی را از اپلیکیشن علی بابا بگیرید تا شانستان در این قرعه کشی ۱۰ برابر شود.\"\t\t\t\r\n",
            "\"اسنپی عزیز،با شرکت در نظرسنجی زیر ما را در ارائه خدمات بهتر یاری رسانید و در قرعه کشی اعتبار ۵۰۰هزار تومانی اسنپ شرکت کنید.https://sfwlst3v1.questionpro.eu\"\t\t\t\r\n",
            "ورودشمارابه جمع خانواده بانک تجارت خوش آمدمی گوییم .اینستاگرام :https://instagram.com/tejaratbank  گپ :https://gap.im/tejaratbankofficial\t\t\t\r\n",
            "\"یکی یکی قفل ها رو باز کن تا به گنج برسی!25 گیگ اینترنت هدیه برای 100 نفر اول!فقط کافیه توی قسمت «سرویس های ویژه» ایرانسل من، «بازیگوشی» رو انتخاب کنی:https://myirancell.irancell.ir/dl?161\"\t\t\t\r\n",
            "\"دانشجوي گراميپرداخت شما از نوع پرداخت الكترونيكي با مبلغ 9,100,000 ترم 4001 در تاريخ 1400.06.20 ساعت 13:37:47 ثبت شد. ×دانشگاه سمنان×\"\t\t\t\r\n",
            "همراه گرامى 26 امتياز با احتساب ضريب همراهى به حساب باشگاه فيروزه اى شما اضافه شد. براى اطلاع از نحوه کسب امتيازات و مشاهده جوايز متنوع به اپليکيشن يا پرتال همراه من به آدرس my.mci.ir بخش باشگاه فيروزه اى مراجعه نماييد.باشگاه فيروزه اى - باشگاه  مشتريان همراه اول\t\t\t\r\n",
            "\"مالک دستگاه،شماره091075ZZZ97استدرصورت خرید،از فروشنده کدفعالسازی گرفته و باشماره گیری#7777*دستگاه را فعالسازی کنید،درغیراینصورت نیازبه اقدامی نیستIMEI: 358934998014946راهنما:hmti.ir/p01\"\t\t\t\r\n",
            "\"مشترک گرامیشما تا ساعت 10:07:44 تاريخ 1400/09/05، ۸۵ درصد حجم بسته اینترنت هدیه 180 روزه 30 گیگابایت را مصرف کرده اید و تنها 4469 مگابایت از حجم بسته باقی مانده است.پس از به پایان رسیدن این بسته، در صورت فعال بودن سرویس تعرفه آزاد و نداشتن بسته اینترنت فعال، مصرف اینترنت شما با نرخ تعرفه آزاد محاسبه خواهد شد.اطلاع از وضعیت بسته*100*10#فعالسازی بسته*100#قطع اینترنت تعرفه آزاد*100*113#\"\t\t\t\r\n",
            "مشترک گرامی جشنواره جمعه های رویایی شما فعال می باشد. شما می توانید تا پایان اسفند 1400 روزهای جمعه بصورت نامحدود تماس رایگان داخل شبکه داشته باشید\t\t\t\r\n",
            "۷۵۰۰ تومان تخفیف اسنپ برای ۴ سفر!در سفر اول ۵۰٪ (تا سقف ۳۰۰۰ تومان) و در ۳ سفر بعدی ۲۰٪ (هر بار تا سقف ۱۵۰۰ تومان) تخفیف بگیرید.کد تخفیف:RTCN-7اعتبار: تا ۲ آذرلطفا ماسک فراموش نشود!http://snp.cab/szfz\t\t\t\r\n",
            "\"مشترک گرامی 9380210896 با توجه به اینکه اینترنت شما درحال حاضر طبق تعرفه مصرف آزاد محاسبه می‌شود، پیشنهاد می‌کنیم با خریدبسته درهزینه های خود صرفه جویی کنید.  اینترنت هدیه با تبدیل سیم‌کارت اعتباری به دائمی: *70#\"\t\t\t\r\n",
            "\"اقامت رایگان🏨\"\"ویژه کاشت مو\"\"با ارسال عدد 14\"\t\t\t\r\n",
            "\"با توجه به پرداخت‌هاى هفته گذشته، امتيازات زير در باشگاه مشتريان براى شما قابل دريافت است:خريد شارژ: 2 امتياز با مراجعه به صفحه امتيازگيرى باشگاه فيروزه‌اى در اپليکيشن همراه من، نسبت به دريافت امتيازات و تبديل آن به جوايز متنوع شامل بسته‌هاى اينترنت و مکالمه، کدهاى تخفيف و ... اقدام نماييد.مهلت دريافت امتياز يک ماه از زمان پرداختMy.mci.irهمراه اول\"\t\t\t\r\n",
            "\"شرکت در قرعه کشی ماهانه 20 جایزه 50 میلیون  تومانی همراه اول از 2 روش زیر امکان پذیر است:1- شماره گیری کد *10*35#و سپس خرید هر نوع بسته اینترنت، مکالمه و ترکیبی2- خرید و فعال سازی سیمکارتامیدواریم شما یکی از برندگان باشید\"\t\t\t\r\n",
            "سفر به دنیای شگفت‌انگیز طبیعت!خرید تجهیزات کمپینگ و طبیعت‌گردی با ارسال سریع🚀«زیگوکمپ»http://yelloadwise.ir/xsDUMsq\t\t\t\r\n",
            "شما به جشن۸سالگی افق کوروش دعوتیداز تخفیفات ویژه امروز جا نمونی!okcs.ir/18شرکت در قرعه کشی با خریدمحصولات میکس لند وستاک\t\t\t\r\n",
            "\"60 دقیقه مکالمه درون شبکه از ساعت 7 صبح تا 23، با خرید بسته روزهای گرم حرفی  به قیمت 2000 تومان.فعالسازی با شماره گیری*10*336#\"\t\t\t\r\n",
            "یه فوتباله و یه فوتبال برتر جدال سرخ آبی‌ها در آستانه شهرآورد⚽️⚽️⚽️در آیگپ پیش‌بینی کنید و جایزه میلیونی برنده بشیدd.igap.net/fb\t\t\t\r\n",
            "\"مشترک گرامى، شماره شما داراى 0 امتياز براى شرکت در قرعه کشى آبان ماه است. جهت آگاهى از روشهاى کسب امتياز به آدرس زير مراجعه نماييد.https://mci.ir/prize1با خريد مکالمه همراهى از تخفيف مکالمه درون شبکه (تا 90 درصد) و افزايش امتياز براى شرکت در قرعه کشى ماه بعد بهره مند شويد.*1000#\"\t\t\t\r\n",
            "شیرینی دانمارکی 45000پرتقال 9500نوشیدنی هی جو 45%تن ماهی 25%پنیر ویلی کاله 20%پودرماشین لباسشویی 15%هایپرفامیلی سمنانامروزوفردا\t\t\t\r\n",
            "\"🅑🅐🅗🅐🅡🅘, [11/30/2021 9:12 PM]مشترک گرامی اعتبار شما کمتر از 4000 ريال می باشد. خرید راحت و به صرفه از درگاههای مستقیم همراه اول:       #1*   و سامانه shop.mci.ir\"\t\t\t\r\n",
            "<#> Account: 669120 is your Samsung account verification code.bP2ROrn3fZQ\t\t\t\r\n",
            "عضویت رایگان یکساله کتابخانهکدتخفیف 904138A14Bsamanpl.ir\t\t\t\r\n",
            "۱۵ درصد تخفیف ویژه خرید بسته‌های ترافیک یک‌ساله ۲۰ و ۲۰۰ گیگابایتی اینترنت ثابت شاتل فقط تا ۱٧ آذر.https://u.sha.tel/SBRP8\t\t\t\r\n",
            "\"تشریف نمیارین؟ کلاس منتظر شماست!توی اپ «قرار»، هرچی بلدی رو آموزش بده و درآمد کسب کنقرار رو نصب کن و رویدادت رو رایگان برگزار کن!http://yelloadwise.ir/s2s1oWf\"\t\t\t\r\n",
            "فیلم جذاب «شاه ریچارد»🎾داستان زندگی مربی تنیس مشهور ریچارد ویلیامزدر«چارخونه»🍿IMDB: 7.6/10yun.ir/t7xfs2اطلاعات بیشتر با *44#\t\t\t\r\n",
            "\"جشنواره پاییزی ایرانسل!قرعه‌کشی ۳۰ سیم‌کارت از جنس طلا به‌ ارزش ۵۰ میلیون تومان، با خرید از فروشگاه اینترنتی ایرانسل:Shop.irancell.ir\"\t\t\t\r\n",
            "🔴 هم اكنون ویژه برنامه كنكور ارشد 1401https://b2n.ir/d46262ماهان\t\t\t\r\n",
            "امپراتوری قدرتمند خودت رو در«بازی سلاطین» بساز!۵۰٪ تخفیف؛ ویژه اولین خریدکد تخفیف: GOSSCLhttp://yelloadwise.ir/uywppdp\t\t\t\r\n",
            "code: 39799  کد فعال‌سازی شما در آنتن\t\t\t\r\n",
            "code: 64971  كد فعالسازي شما در آنتن\t\t\t\r\n",
            "\"اگر مالک با علم و اطلاع، خودروي خود را در اختیار فردي که گواهینامه رانندگی ندارد بگذارد، به عنوان معاونت در جرم رانندگی بدون گواهینامه، تحت تعقیب کیفري قرار می گیرد.معاونت اجتماعی و پیشگیری از وقوع جرم قوه قضاییه\"\t\t\t\r\n",
            "\"مشتري گرامي، صدور اوليه کارت نقدي حساب مشترک با شماره سريال Ῐ585983****7601Ῑ انجام گرديد. همچنين جهت ورود تاريخ انقضاء در فيلد سال، صرفاً دو رقم سمت راست (مثلا براي سال 1403 عدد 03) را وارد نمائيد.\"\t\t\t\r\n",
            "هموطن عزيز با تلاش‌هاي گسترده مشكل فني سامانه هوشمند سوخت به زودي برطرف مي‌شود.سهميه بنزين موجود در كارت‌هاي سوخت محفوظ است و شايعه افزايش قيمت بنزين يا حذف سهميه‌ها واقعيت ندارد.لطفاً اخبار صحيح را از رسانه‌هاي رسمي كشور پيگيري نماييد. وزارت نفت\t\t\t\r\n",
            "Code: 660866 کد ورود شما به اسنپ!SySzyQ+eJ3i\t\t\t\r\n",
            "\"تراکنش از شما، جایزه از مابا نصب و انجام تراکنش در اپلیکیشن جامع اوانو، علاوه بر دریافت هدیه نقدی، وارد قرعه‌کشی‌های جذاب اوانو شوید.https://click.adtrace.io/8741s84جوایز آذر ماه: مک‌بوک، آیفون ۱۳، آیپد و …\"\t\t\t\r\n",
            "اینجا رو نبینی از دستت رفته! 🔥از تخفیف‌های امسال بلک فرایدی دیجی‌کالا خبر داری؟تا ۸۰٪ تخفیف داغ‌ترین‌ها از ۵ تا ۷ آذر:dgkl.me/D0j__Aلغو: ۱\t\t\t\r\n",
            "\"هرکس با تهدید، ترغیب، تشویق یا فریب، موجب فرار کودک یا نوجوان از خانه یا مدرسه یا ترک تحصیل شود، به مجازات مقرر قانونی محکوم خواهد شد.معاونت اجتماعی و پیشگیری از وقوع جرم قوه قضاییه\"\t\t\t\r\n",
            "\"لیمومی: پرونده شما به شماره 2680173  ثبت شد.لطفا جهت پرداخت، و تکمیل پرونده پزشکی از لینک زیر استفاده کنید:http://my.limoome.com\"\t\t\t\r\n"
          ]
        }
      ]
    },
    {
      "cell_type": "code",
      "source": [
        "sms= open('sms_data.txt', 'r').read()\n",
        "len(sms)\n"
      ],
      "metadata": {
        "colab": {
          "base_uri": "https://localhost:8080/"
        },
        "id": "CdvxsM8aGB4q",
        "outputId": "98a2e92a-7d0f-4f3f-f56c-a8e1d1f22423"
      },
      "execution_count": 6,
      "outputs": [
        {
          "output_type": "execute_result",
          "data": {
            "text/plain": [
              "76368"
            ]
          },
          "metadata": {},
          "execution_count": 6
        }
      ]
    },
    {
      "cell_type": "code",
      "source": [
        "splited= sms.split('\\n')\n",
        "splited[:10]"
      ],
      "metadata": {
        "colab": {
          "base_uri": "https://localhost:8080/"
        },
        "id": "VmaDx6pzGJlS",
        "outputId": "4f639863-650a-403a-c2c2-ec94537b3564"
      },
      "execution_count": 8,
      "outputs": [
        {
          "output_type": "execute_result",
          "data": {
            "text/plain": [
              "['\\ufeff\"*سمنانِ مَن*پرداخت درون شهری –تاکسی شهری 14 ت 723 86 مبلغ : 30,000 ریالبرداشت از : کارت بانکی شهروندواریز به : محمدتقي نظريشناسه مرجع : 01FNNCDH0RRYJ0D8EZPBJVXARF1400/09/08 - 11:50\"\\t\\t\\t',\n",
              " 'کد تایید : 4657شهرداری سمنان\\t\\t\\t',\n",
              " 'گوشت گوسفندی تازه 83500برنج ایرانی 31999همبرگر 45%چای 35%دمپایی نیکتا 30%مایع ظرف 3750 پریل20%هایپرفامیلی سمنانامروزوفردا\\t\\t\\t',\n",
              " '\"سرمایه\\u200cگذاری در پرسودترین صندوق بدون ریسک کشور!رتبه 1 بازدهی در شهریورنماد ETF \"\"کامیاب\"\" از طریق سامانه آنلاین کارگزاریها:http://yelloadwise.ir/rtO2d2v\"\\t\\t\\t',\n",
              " 'شقابق سلاماز شما دعوت می\\u200cکنیم در وبینار پرفورمنس مارکتینگ چیست با الهام احمدی مدیر تیم کمپین تپسل در روز دوشنبه 12 مهر ساعت 19 شرکت کنی.ثبت نام رایگان:https://eseminar.tv/wb37308\\t\\t\\t',\n",
              " '\"دست خالی سفر نرو!!با یک جشنواره پر از جایزه ساکت رو ببند.«اتاقک»، سامانه اجاره روزانه ویلا وسوئیت!شروع از لینک زیر:http://yelloadwise.ir/Ggq4X0M\"\\t\\t\\t',\n",
              " 'فروش ویژه برای شروع کسب وکار تازه!دستگاه گلاب گیر و عرقیجات در «ویترین نت»؛ بازار آنلاین تجهیزات صنعتی⚡مشاوره تخصصی⚡ضمانت بازگشت وجه تا ۷ روزلینک: http://yelloadwise.ir/PaH7Bdd\\t\\t\\t',\n",
              " 'فقط در چارخونه😍🎬دوبله فارسی انیمیشن پرطرفدار«خانواده آدامز 2» داغ داغ رسید🍿yun.ir/udl5f1تماشای رایگان با اینترنت ایرانسل💛\\t\\t\\t',\n",
              " '\"📢5گیگ فضای رایگان 6 ماهه!🎁«ابرتو»،فضای ذخیره سازی ابری باحجم های 100و1000 گیگ!💾 دانلود:lnk.amaroid.net/s/1FnQXQge\"\\t\\t\\t',\n",
              " '\"با هر پرداخت در «آپ»، امتیاز و جایزه بگیرید!جشنواره پاییزه «آپ»:لینک: http://yelloadwise.ir/0q5gEhQ\"\\t\\t\\t']"
            ]
          },
          "metadata": {},
          "execution_count": 8
        }
      ]
    },
    {
      "cell_type": "code",
      "source": [
        "#take labels to spam words and sms\n",
        "spam = pd.read_csv('spam_data.txt', encoding='utf-8')"
      ],
      "metadata": {
        "id": "7vyneriLGmR4"
      },
      "execution_count": 12,
      "outputs": []
    },
    {
      "cell_type": "code",
      "source": [
        "w = {} # list of words\n",
        "t={}  #list of texts\n",
        "def words(text):\n",
        "  indx = len(w)\n",
        "  #label for each word in text \n",
        "  for words in text:\n",
        "    w[words] = indx\n",
        "    indx += 1\n",
        "if __name__ == '__main__':\n",
        "  for i in range(spam.shape[0]):\n",
        "    t = spam.iloc[i,0].split()\n",
        "    print('length of word is ', len(w))\n",
        "\n",
        "  words(t)"
      ],
      "metadata": {
        "colab": {
          "base_uri": "https://localhost:8080/"
        },
        "id": "-x_7jp_hHOwZ",
        "outputId": "fc738be1-4e4a-4000-de19-185c6c4a5b38"
      },
      "execution_count": 19,
      "outputs": [
        {
          "output_type": "stream",
          "name": "stdout",
          "text": [
            "length of word is  0\n",
            "length of word is  0\n",
            "length of word is  0\n",
            "length of word is  0\n",
            "length of word is  0\n",
            "length of word is  0\n",
            "length of word is  0\n",
            "length of word is  0\n",
            "length of word is  0\n",
            "length of word is  0\n",
            "length of word is  0\n",
            "length of word is  0\n",
            "length of word is  0\n",
            "length of word is  0\n",
            "length of word is  0\n",
            "length of word is  0\n",
            "length of word is  0\n",
            "length of word is  0\n",
            "length of word is  0\n",
            "length of word is  0\n",
            "length of word is  0\n",
            "length of word is  0\n",
            "length of word is  0\n",
            "length of word is  0\n",
            "length of word is  0\n",
            "length of word is  0\n",
            "length of word is  0\n",
            "length of word is  0\n",
            "length of word is  0\n",
            "length of word is  0\n",
            "length of word is  0\n",
            "length of word is  0\n",
            "length of word is  0\n",
            "length of word is  0\n",
            "length of word is  0\n",
            "length of word is  0\n",
            "length of word is  0\n",
            "length of word is  0\n",
            "length of word is  0\n",
            "length of word is  0\n",
            "length of word is  0\n",
            "length of word is  0\n",
            "length of word is  0\n",
            "length of word is  0\n",
            "length of word is  0\n",
            "length of word is  0\n",
            "length of word is  0\n",
            "length of word is  0\n",
            "length of word is  0\n",
            "length of word is  0\n",
            "length of word is  0\n",
            "length of word is  0\n",
            "length of word is  0\n",
            "length of word is  0\n",
            "length of word is  0\n",
            "length of word is  0\n",
            "length of word is  0\n",
            "length of word is  0\n",
            "length of word is  0\n",
            "length of word is  0\n",
            "length of word is  0\n",
            "length of word is  0\n",
            "length of word is  0\n",
            "length of word is  0\n",
            "length of word is  0\n",
            "length of word is  0\n",
            "length of word is  0\n",
            "length of word is  0\n",
            "length of word is  0\n",
            "length of word is  0\n",
            "length of word is  0\n",
            "length of word is  0\n",
            "length of word is  0\n",
            "length of word is  0\n",
            "length of word is  0\n",
            "length of word is  0\n",
            "length of word is  0\n",
            "length of word is  0\n",
            "length of word is  0\n",
            "length of word is  0\n",
            "length of word is  0\n",
            "length of word is  0\n",
            "length of word is  0\n",
            "length of word is  0\n",
            "length of word is  0\n",
            "length of word is  0\n",
            "length of word is  0\n",
            "length of word is  0\n",
            "length of word is  0\n",
            "length of word is  0\n",
            "length of word is  0\n",
            "length of word is  0\n",
            "length of word is  0\n",
            "length of word is  0\n",
            "length of word is  0\n",
            "length of word is  0\n",
            "length of word is  0\n",
            "length of word is  0\n",
            "length of word is  0\n",
            "length of word is  0\n",
            "length of word is  0\n",
            "length of word is  0\n",
            "length of word is  0\n",
            "length of word is  0\n",
            "length of word is  0\n",
            "length of word is  0\n",
            "length of word is  0\n",
            "length of word is  0\n",
            "length of word is  0\n",
            "length of word is  0\n",
            "length of word is  0\n",
            "length of word is  0\n",
            "length of word is  0\n",
            "length of word is  0\n",
            "length of word is  0\n",
            "length of word is  0\n",
            "length of word is  0\n",
            "length of word is  0\n",
            "length of word is  0\n",
            "length of word is  0\n",
            "length of word is  0\n",
            "length of word is  0\n",
            "length of word is  0\n",
            "length of word is  0\n",
            "length of word is  0\n",
            "length of word is  0\n",
            "length of word is  0\n",
            "length of word is  0\n",
            "length of word is  0\n",
            "length of word is  0\n",
            "length of word is  0\n",
            "length of word is  0\n",
            "length of word is  0\n",
            "length of word is  0\n",
            "length of word is  0\n",
            "length of word is  0\n",
            "length of word is  0\n",
            "length of word is  0\n",
            "length of word is  0\n",
            "length of word is  0\n",
            "length of word is  0\n",
            "length of word is  0\n",
            "length of word is  0\n",
            "length of word is  0\n",
            "length of word is  0\n",
            "length of word is  0\n",
            "length of word is  0\n",
            "length of word is  0\n",
            "length of word is  0\n",
            "length of word is  0\n",
            "length of word is  0\n",
            "length of word is  0\n",
            "length of word is  0\n",
            "length of word is  0\n",
            "length of word is  0\n",
            "length of word is  0\n",
            "length of word is  0\n",
            "length of word is  0\n",
            "length of word is  0\n",
            "length of word is  0\n",
            "length of word is  0\n",
            "length of word is  0\n",
            "length of word is  0\n",
            "length of word is  0\n",
            "length of word is  0\n",
            "length of word is  0\n",
            "length of word is  0\n",
            "length of word is  0\n",
            "length of word is  0\n",
            "length of word is  0\n",
            "length of word is  0\n",
            "length of word is  0\n",
            "length of word is  0\n",
            "length of word is  0\n",
            "length of word is  0\n",
            "length of word is  0\n",
            "length of word is  0\n",
            "length of word is  0\n",
            "length of word is  0\n",
            "length of word is  0\n",
            "length of word is  0\n",
            "length of word is  0\n",
            "length of word is  0\n",
            "length of word is  0\n",
            "length of word is  0\n",
            "length of word is  0\n",
            "length of word is  0\n",
            "length of word is  0\n",
            "length of word is  0\n",
            "length of word is  0\n",
            "length of word is  0\n",
            "length of word is  0\n",
            "length of word is  0\n",
            "length of word is  0\n",
            "length of word is  0\n",
            "length of word is  0\n",
            "length of word is  0\n",
            "length of word is  0\n",
            "length of word is  0\n",
            "length of word is  0\n",
            "length of word is  0\n",
            "length of word is  0\n",
            "length of word is  0\n",
            "length of word is  0\n",
            "length of word is  0\n",
            "length of word is  0\n",
            "length of word is  0\n",
            "length of word is  0\n",
            "length of word is  0\n",
            "length of word is  0\n",
            "length of word is  0\n",
            "length of word is  0\n",
            "length of word is  0\n",
            "length of word is  0\n",
            "length of word is  0\n",
            "length of word is  0\n",
            "length of word is  0\n",
            "length of word is  0\n",
            "length of word is  0\n",
            "length of word is  0\n",
            "length of word is  0\n",
            "length of word is  0\n",
            "length of word is  0\n",
            "length of word is  0\n",
            "length of word is  0\n",
            "length of word is  0\n",
            "length of word is  0\n",
            "length of word is  0\n",
            "length of word is  0\n",
            "length of word is  0\n",
            "length of word is  0\n",
            "length of word is  0\n",
            "length of word is  0\n",
            "length of word is  0\n",
            "length of word is  0\n",
            "length of word is  0\n",
            "length of word is  0\n",
            "length of word is  0\n",
            "length of word is  0\n",
            "length of word is  0\n",
            "length of word is  0\n",
            "length of word is  0\n",
            "length of word is  0\n",
            "length of word is  0\n",
            "length of word is  0\n",
            "length of word is  0\n",
            "length of word is  0\n",
            "length of word is  0\n",
            "length of word is  0\n",
            "length of word is  0\n",
            "length of word is  0\n",
            "length of word is  0\n",
            "length of word is  0\n",
            "length of word is  0\n",
            "length of word is  0\n",
            "length of word is  0\n",
            "length of word is  0\n",
            "length of word is  0\n",
            "length of word is  0\n",
            "length of word is  0\n",
            "length of word is  0\n",
            "length of word is  0\n",
            "length of word is  0\n",
            "length of word is  0\n",
            "length of word is  0\n",
            "length of word is  0\n",
            "length of word is  0\n",
            "length of word is  0\n",
            "length of word is  0\n",
            "length of word is  0\n",
            "length of word is  0\n",
            "length of word is  0\n",
            "length of word is  0\n",
            "length of word is  0\n",
            "length of word is  0\n",
            "length of word is  0\n",
            "length of word is  0\n",
            "length of word is  0\n",
            "length of word is  0\n",
            "length of word is  0\n",
            "length of word is  0\n",
            "length of word is  0\n",
            "length of word is  0\n",
            "length of word is  0\n",
            "length of word is  0\n",
            "length of word is  0\n",
            "length of word is  0\n",
            "length of word is  0\n",
            "length of word is  0\n",
            "length of word is  0\n",
            "length of word is  0\n",
            "length of word is  0\n",
            "length of word is  0\n",
            "length of word is  0\n",
            "length of word is  0\n",
            "length of word is  0\n",
            "length of word is  0\n",
            "length of word is  0\n",
            "length of word is  0\n",
            "length of word is  0\n",
            "length of word is  0\n",
            "length of word is  0\n",
            "length of word is  0\n",
            "length of word is  0\n",
            "length of word is  0\n",
            "length of word is  0\n",
            "length of word is  0\n",
            "length of word is  0\n",
            "length of word is  0\n",
            "length of word is  0\n",
            "length of word is  0\n",
            "length of word is  0\n",
            "length of word is  0\n",
            "length of word is  0\n",
            "length of word is  0\n",
            "length of word is  0\n",
            "length of word is  0\n",
            "length of word is  0\n",
            "length of word is  0\n",
            "length of word is  0\n",
            "length of word is  0\n",
            "length of word is  0\n",
            "length of word is  0\n",
            "length of word is  0\n",
            "length of word is  0\n",
            "length of word is  0\n",
            "length of word is  0\n",
            "length of word is  0\n",
            "length of word is  0\n",
            "length of word is  0\n",
            "length of word is  0\n",
            "length of word is  0\n",
            "length of word is  0\n",
            "length of word is  0\n",
            "length of word is  0\n",
            "length of word is  0\n",
            "length of word is  0\n",
            "length of word is  0\n",
            "length of word is  0\n",
            "length of word is  0\n",
            "length of word is  0\n",
            "length of word is  0\n",
            "length of word is  0\n",
            "length of word is  0\n",
            "length of word is  0\n",
            "length of word is  0\n",
            "length of word is  0\n",
            "length of word is  0\n",
            "length of word is  0\n",
            "length of word is  0\n",
            "length of word is  0\n",
            "length of word is  0\n",
            "length of word is  0\n",
            "length of word is  0\n",
            "length of word is  0\n",
            "length of word is  0\n",
            "length of word is  0\n",
            "length of word is  0\n",
            "length of word is  0\n",
            "length of word is  0\n",
            "length of word is  0\n",
            "length of word is  0\n",
            "length of word is  0\n",
            "length of word is  0\n",
            "length of word is  0\n",
            "length of word is  0\n",
            "length of word is  0\n",
            "length of word is  0\n",
            "length of word is  0\n",
            "length of word is  0\n",
            "length of word is  0\n",
            "length of word is  0\n",
            "length of word is  0\n",
            "length of word is  0\n",
            "length of word is  0\n",
            "length of word is  0\n"
          ]
        }
      ]
    },
    {
      "cell_type": "code",
      "source": [
        "#save the list of words in voc.txt file\n",
        "file = open(\"voc.txt\", \"w\")\n",
        "file.write(str(w))\n",
        "file.close()"
      ],
      "metadata": {
        "id": "25h9QbeXIn6J"
      },
      "execution_count": 20,
      "outputs": []
    },
    {
      "cell_type": "code",
      "source": [
        "#####################sms file :"
      ],
      "metadata": {
        "id": "plx7sZ4UI_7H"
      },
      "execution_count": null,
      "outputs": []
    },
    {
      "cell_type": "code",
      "source": [
        "import numpy as np\n",
        "import pandas as pd\n",
        "import ast"
      ],
      "metadata": {
        "id": "Rg0sa658JDwG"
      },
      "execution_count": 21,
      "outputs": []
    },
    {
      "cell_type": "code",
      "source": [
        "data = pd.read_csv('sms_data.txt', encoding='utf-8')\n",
        "file = open('voc.txt', 'r', encoding='utf-8')\n",
        "sm = file.read()\n",
        "sm"
      ],
      "metadata": {
        "colab": {
          "base_uri": "https://localhost:8080/",
          "height": 36
        },
        "id": "xF8-QF1WJJmV",
        "outputId": "11450b30-db12-477e-c71a-5fe19e4c2469"
      },
      "execution_count": 28,
      "outputs": [
        {
          "output_type": "execute_result",
          "data": {
            "application/vnd.google.colaboratory.intrinsic+json": {
              "type": "string"
            },
            "text/plain": [
              "\"{'مشهور': 0}\""
            ]
          },
          "metadata": {},
          "execution_count": 28
        }
      ]
    },
    {
      "cell_type": "code",
      "source": [
        "###take labels sms file\n",
        "vocab = ast.literal_eval(sm)\n",
        "a = np.zeros((data.shape[0], len(vocab)))\n",
        "b = np.zeros((data.shape[0]))\n",
        "for i in range(data.shape[0]):\n",
        "  sms = data.iloc[i,0].split()\n",
        "for sms_word in sms:\n",
        "  if sms_word.lower() in vocab:\n",
        "    a[i, vocab[sms_word]] +=1"
      ],
      "metadata": {
        "id": "OE0c53t1JjqI"
      },
      "execution_count": 33,
      "outputs": []
    },
    {
      "cell_type": "code",
      "source": [
        "np.save('a.npy', a)\n",
        "np.save('b.npy', b)"
      ],
      "metadata": {
        "id": "fc3Y0bM9KHkw"
      },
      "execution_count": 34,
      "outputs": []
    },
    {
      "cell_type": "code",
      "source": [
        "######naive func\n",
        "import numpy as np\n",
        "\n",
        "class naivebayes():\n",
        " def __init__(self, a, b):\n",
        "  self.num_examples, self.num_features = a.shape\n",
        "  self.num_classes = len(np.unique(b))\n",
        "  self.eps = 1e-6\n",
        "def fit(self, a, b):\n",
        " self.classes_mean = {}\n",
        " self.classes_variance = {}\n",
        " self.classes_prior = {}\n",
        "\n",
        " for c in range(self.num_classes):\n",
        "   a_c = a[y==c]\n",
        "\n",
        "   self.classes_mean[str(c)] = np.mean(a_c, axis=0)\n",
        "   self.classes_variance[str(c)] = np.var(a_c, axis=0)\n",
        "   self.classes_prior[str(c)] = a_c.shape[0]/self.num_examples\n",
        "def predict(self, a):\n",
        " probs = np.zeros((self.num_examples, self.num_classes))\n",
        "\n",
        " for c in range(self.num_classes):\n",
        "   prior = self.classes_prior[str(c)]\n",
        "   probs_c = self.density_function(a, self.classes_mean[str(c)], self.classes_variance[str(c)])\n",
        "   probs[:, c] = probs_c +np.log(prior)\n",
        "\n",
        "   return np.argmax(probs, 1)\n",
        "def density_function(self, a, mean, sigma):\n",
        "  const = -self.num_features/2 * np.log(2*np.pi) - 0.5*np.sum(sigma+self.eps)\n",
        "  probs = 0.5*np.sum(np.power(x-mean, 2)/(sigma+self.eps), 1)\n",
        "  return const - probs\n",
        "\n"
      ],
      "metadata": {
        "id": "HadhrNI2KcO0"
      },
      "execution_count": 38,
      "outputs": []
    },
    {
      "cell_type": "code",
      "source": [
        "if __name__ == '__main__':\n",
        "  a_train = np.load('a.npy')\n",
        "  b_train = np.load('b.npy')\n"
      ],
      "metadata": {
        "id": "4hRwFRycLQgj"
      },
      "execution_count": 48,
      "outputs": []
    },
    {
      "cell_type": "code",
      "source": [
        "print(a_train.shape)\n",
        "print(b_train.shape)"
      ],
      "metadata": {
        "colab": {
          "base_uri": "https://localhost:8080/"
        },
        "id": "mrBAc9JiL6-i",
        "outputId": "06497f62-6f2f-41f5-deea-9610bed31f51"
      },
      "execution_count": 47,
      "outputs": [
        {
          "output_type": "stream",
          "name": "stdout",
          "text": [
            "(602, 1)\n",
            "(602,)\n"
          ]
        }
      ]
    },
    {
      "cell_type": "code",
      "source": [
        "NB = naivebayes(a_train, b_train)\n",
        "NB.fit(a_train, b_train)\n",
        "b_pred = NB.predict(a_train)\n",
        "print(sum(y_pred == b)/a.shape[0])"
      ],
      "metadata": {
        "id": "2ZRmxvPbNxM4"
      },
      "execution_count": 55,
      "outputs": []
    },
    {
      "cell_type": "code",
      "source": [
        "NB = naivebayes(a_train, b_train)\n",
        "NB.fit(a_train, b_train)\n",
        "b_pred = NB.predict(a_train)\n",
        "print(sum(b_pred == b_train)/a_train.shape[0])"
      ],
      "metadata": {
        "id": "yTOH8B2yN4Hg"
      },
      "execution_count": 56,
      "outputs": []
    }
  ]
}