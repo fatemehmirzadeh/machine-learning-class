{
  "nbformat": 4,
  "nbformat_minor": 0,
  "metadata": {
    "colab": {
      "name": "Untitled0.ipynb",
      "provenance": []
    },
    "kernelspec": {
      "name": "python3",
      "display_name": "Python 3"
    },
    "language_info": {
      "name": "python"
    }
  },
  "cells": [
    {
      "cell_type": "code",
      "execution_count": 1,
      "metadata": {
        "id": "gVklNK7cjaF_"
      },
      "outputs": [],
      "source": [
        "#import libraries\n",
        "import matplotlib.pyplot \n",
        "import numpy as np"
      ]
    },
    {
      "cell_type": "code",
      "source": [
        "#define the points and dist\n",
        "points = np.random.random_sample(size = (100,2))*50\n",
        "n43th = points[43-1] \n",
        "dist = np.linalg.norm(points - n43th, axis=1)\n",
        "neighbors = dist.argsort()[:4]"
      ],
      "metadata": {
        "id": "-_uxDqlMjcgp"
      },
      "execution_count": 2,
      "outputs": []
    },
    {
      "cell_type": "code",
      "source": [
        "#draw the diagram with scatter\n",
        "matplotlib.pyplot.scatter(points[:,0],points[:,1],c=\"b\")\n",
        "matplotlib.pyplot.scatter(points[neighbors][:,0],points[neighbors][:,1],c=\"r\")\n",
        "matplotlib.pyplot.scatter(points[42,0],points[42,1],c=\"y\")\n",
        "matplotlib.pyplot.show()"
      ],
      "metadata": {
        "colab": {
          "base_uri": "https://localhost:8080/",
          "height": 265
        },
        "id": "Ycjj7DzVjqAA",
        "outputId": "147f6ffd-8795-4af4-a48e-532d837c4faf"
      },
      "execution_count": 3,
      "outputs": [
        {
          "output_type": "display_data",
          "data": {
            "image/png": "[encoded data removed]",
            "text/plain": [
              "<Figure size 432x288 with 1 Axes>"
            ]
          },
          "metadata": {
            "needs_background": "light"
          }
        }
      ]
    },
    {
      "cell_type": "code",
      "source": [
        "#calculate the value of the points\n",
        "for i in range(3):\n",
        "    print(\"point {} : x: {:.4f} y: {:.3f}\".format(i+1,points[neighbors[i]][0], points[neighbors[i]][1]))"
      ],
      "metadata": {
        "colab": {
          "base_uri": "https://localhost:8080/"
        },
        "id": "8T4l152ujwY_",
        "outputId": "37df2901-c80d-438d-8ab2-b9cc9856be1c"
      },
      "execution_count": 5,
      "outputs": [
        {
          "output_type": "stream",
          "name": "stdout",
          "text": [
            "point 1 : x: 16.5712 y: 48.680\n",
            "point 2 : x: 16.9733 y: 48.446\n",
            "point 3 : x: 17.7088 y: 48.704\n"
          ]
        }
      ]
    }
  ]
}