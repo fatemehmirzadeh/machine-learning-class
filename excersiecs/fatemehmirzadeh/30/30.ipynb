{
  "nbformat": 4,
  "nbformat_minor": 0,
  "metadata": {
    "colab": {
      "name": "Untitled14.ipynb",
      "provenance": []
    },
    "kernelspec": {
      "name": "python3",
      "display_name": "Python 3"
    },
    "language_info": {
      "name": "python"
    }
  },
  "cells": [
    {
      "cell_type": "code",
      "execution_count": 6,
      "metadata": {
        "id": "g-wZk_q0P8wm"
      },
      "outputs": [],
      "source": [
        "import numpy as np\n",
        "import pandas as pd\n",
        "from sklearn.feature_extraction.text import TfidfVectorizer\n",
        "from sklearn.cluster import KMeans\n"
      ]
    },
    {
      "cell_type": "code",
      "source": [
        "ne = pd.read_csv('news_data.txt', encoding='utf-8')"
      ],
      "metadata": {
        "id": "JmKY_f4XQUSl"
      },
      "execution_count": 8,
      "outputs": []
    },
    {
      "cell_type": "code",
      "source": [
        "ne.head()"
      ],
      "metadata": {
        "colab": {
          "base_uri": "https://localhost:8080/",
          "height": 302
        },
        "id": "CHAQvZcvQVEr",
        "outputId": "09b8d110-8343-482c-b46e-c43b0a854813"
      },
      "execution_count": 9,
      "outputs": [
        {
          "output_type": "execute_result",
          "data": {
            "text/html": [
              "\n",
              "  <div id=\"df-e6301487-6772-428a-a202-316660866ac4\">\n",
              "    <div class=\"colab-df-container\">\n",
              "      <div>\n",
              "<style scoped>\n",
              "    .dataframe tbody tr th:only-of-type {\n",
              "        vertical-align: middle;\n",
              "    }\n",
              "\n",
              "    .dataframe tbody tr th {\n",
              "        vertical-align: top;\n",
              "    }\n",
              "\n",
              "    .dataframe thead th {\n",
              "        text-align: right;\n",
              "    }\n",
              "</style>\n",
              "<table border=\"1\" class=\"dataframe\">\n",
              "  <thead>\n",
              "    <tr style=\"text-align: right;\">\n",
              "      <th></th>\n",
              "      <th>﻿\"برگزاری جلسه هیئت دولت به ریاست مخبر/ آغاز بررسی لایحه بودجه سال ۱۴۰۱ کل کشوربه گزارش گروه سیاسی خبرگزاری فارس، جلسه بعدازظهر امروز هیئت و زیران به ریاست محمد مخبر معاون اول رئیس جمهور برگزار شد.معاون اول رئیس جمهور ضمن قدردانی از رأی اعتماد نمایندگان مجلس شورای اسلامی به یوسف نوری وزیر آموزش و پرورش، از زحمات و تلاش های کاظمی در دوران مسئولیت وی در این وزارتخانه تقدیر کرد.همچنین اعضای دولت بررسی لایحه بودجه سال ۱۴۰۱ کل کشور را در دستور کار خود قرار داده و درخصوص تبصره های آن، به بحث و تبادل نظر با یکدیگر پرداختند.گفتنی است، کار بررسی لایحه بودجه سال ۱۴۰۱ کل کشور در جلسه های آتی دولت ادامه خواهد یافت.\"</th>\n",
              "    </tr>\n",
              "  </thead>\n",
              "  <tbody>\n",
              "    <tr>\n",
              "      <th>0</th>\n",
              "      <td>رئیس‌جمهور ازبکستان در دیدار با رئیسی: از هر ن...</td>\n",
              "    </tr>\n",
              "    <tr>\n",
              "      <th>1</th>\n",
              "      <td>لیست بازیکنان استقلال برای بازی با صنعت نفت اع...</td>\n",
              "    </tr>\n",
              "    <tr>\n",
              "      <th>2</th>\n",
              "      <td>مجلس به دنبال بستنِ راهِ «تنفسِ» جنگل‌های شما...</td>\n",
              "    </tr>\n",
              "    <tr>\n",
              "      <th>3</th>\n",
              "      <td>آخرین آمار کرونا در ایران، ۱۳ آذر ۱۴۰۰: فوت ۵۸...</td>\n",
              "    </tr>\n",
              "    <tr>\n",
              "      <th>4</th>\n",
              "      <td>تسنیم: دلار در بازار آزاد: ۳۰ هزار و ۱۰۰تومان...</td>\n",
              "    </tr>\n",
              "  </tbody>\n",
              "</table>\n",
              "</div>\n",
              "      <button class=\"colab-df-convert\" onclick=\"convertToInteractive('df-e6301487-6772-428a-a202-316660866ac4')\"\n",
              "              title=\"Convert this dataframe to an interactive table.\"\n",
              "              style=\"display:none;\">\n",
              "        \n",
              "  <svg xmlns=\"http://www.w3.org/2000/svg\" height=\"24px\"viewBox=\"0 0 24 24\"\n",
              "       width=\"24px\">\n",
              "    <path d=\"M0 0h24v24H0V0z\" fill=\"none\"/>\n",
              "    <path d=\"M18.56 5.44l.94 2.06.94-2.06 2.06-.94-2.06-.94-.94-2.06-.94 2.06-2.06.94zm-11 1L8.5 8.5l.94-2.06 2.06-.94-2.06-.94L8.5 2.5l-.94 2.06-2.06.94zm10 10l.94 2.06.94-2.06 2.06-.94-2.06-.94-.94-2.06-.94 2.06-2.06.94z\"/><path d=\"M17.41 7.96l-1.37-1.37c-.4-.4-.92-.59-1.43-.59-.52 0-1.04.2-1.43.59L10.3 9.45l-7.72 7.72c-.78.78-.78 2.05 0 2.83L4 21.41c.39.39.9.59 1.41.59.51 0 1.02-.2 1.41-.59l7.78-7.78 2.81-2.81c.8-.78.8-2.07 0-2.86zM5.41 20L4 18.59l7.72-7.72 1.47 1.35L5.41 20z\"/>\n",
              "  </svg>\n",
              "      </button>\n",
              "      \n",
              "  <style>\n",
              "    .colab-df-container {\n",
              "      display:flex;\n",
              "      flex-wrap:wrap;\n",
              "      gap: 12px;\n",
              "    }\n",
              "\n",
              "    .colab-df-convert {\n",
              "      background-color: #E8F0FE;\n",
              "      border: none;\n",
              "      border-radius: 50%;\n",
              "      cursor: pointer;\n",
              "      display: none;\n",
              "      fill: #1967D2;\n",
              "      height: 32px;\n",
              "      padding: 0 0 0 0;\n",
              "      width: 32px;\n",
              "    }\n",
              "\n",
              "    .colab-df-convert:hover {\n",
              "      background-color: #E2EBFA;\n",
              "      box-shadow: 0px 1px 2px rgba(60, 64, 67, 0.3), 0px 1px 3px 1px rgba(60, 64, 67, 0.15);\n",
              "      fill: #174EA6;\n",
              "    }\n",
              "\n",
              "    [theme=dark] .colab-df-convert {\n",
              "      background-color: #3B4455;\n",
              "      fill: #D2E3FC;\n",
              "    }\n",
              "\n",
              "    [theme=dark] .colab-df-convert:hover {\n",
              "      background-color: #434B5C;\n",
              "      box-shadow: 0px 1px 3px 1px rgba(0, 0, 0, 0.15);\n",
              "      filter: drop-shadow(0px 1px 2px rgba(0, 0, 0, 0.3));\n",
              "      fill: #FFFFFF;\n",
              "    }\n",
              "  </style>\n",
              "\n",
              "      <script>\n",
              "        const buttonEl =\n",
              "          document.querySelector('#df-e6301487-6772-428a-a202-316660866ac4 button.colab-df-convert');\n",
              "        buttonEl.style.display =\n",
              "          google.colab.kernel.accessAllowed ? 'block' : 'none';\n",
              "\n",
              "        async function convertToInteractive(key) {\n",
              "          const element = document.querySelector('#df-e6301487-6772-428a-a202-316660866ac4');\n",
              "          const dataTable =\n",
              "            await google.colab.kernel.invokeFunction('convertToInteractive',\n",
              "                                                     [key], {});\n",
              "          if (!dataTable) return;\n",
              "\n",
              "          const docLinkHtml = 'Like what you see? Visit the ' +\n",
              "            '<a target=\"_blank\" href=https://colab.research.google.com/notebooks/data_table.ipynb>data table notebook</a>'\n",
              "            + ' to learn more about interactive tables.';\n",
              "          element.innerHTML = '';\n",
              "          dataTable['output_type'] = 'display_data';\n",
              "          await google.colab.output.renderOutput(dataTable, element);\n",
              "          const docLink = document.createElement('div');\n",
              "          docLink.innerHTML = docLinkHtml;\n",
              "          element.appendChild(docLink);\n",
              "        }\n",
              "      </script>\n",
              "    </div>\n",
              "  </div>\n",
              "  "
            ],
            "text/plain": [
              "  ﻿\"برگزاری جلسه هیئت دولت به ریاست مخبر/ آغاز بررسی لایحه بودجه سال ۱۴۰۱ کل کشوربه گزارش گروه سیاسی خبرگزاری فارس، جلسه بعدازظهر امروز هیئت و زیران به ریاست محمد مخبر معاون اول رئیس جمهور برگزار شد.معاون اول رئیس جمهور ضمن قدردانی از رأی اعتماد نمایندگان مجلس شورای اسلامی به یوسف نوری وزیر آموزش و پرورش، از زحمات و تلاش های کاظمی در دوران مسئولیت وی در این وزارتخانه تقدیر کرد.همچنین اعضای دولت بررسی لایحه بودجه سال ۱۴۰۱ کل کشور را در دستور کار خود قرار داده و درخصوص تبصره های آن، به بحث و تبادل نظر با یکدیگر پرداختند.گفتنی است، کار بررسی لایحه بودجه سال ۱۴۰۱ کل کشور در جلسه های آتی دولت ادامه خواهد یافت.\"\n",
              "0  رئیس‌جمهور ازبکستان در دیدار با رئیسی: از هر ن...                                                                                                                                                                                                                                                                                                                                                                                                                                                                                                                                                                                 \n",
              "1  لیست بازیکنان استقلال برای بازی با صنعت نفت اع...                                                                                                                                                                                                                                                                                                                                                                                                                                                                                                                                                                                 \n",
              "2   مجلس به دنبال بستنِ راهِ «تنفسِ» جنگل‌های شما...                                                                                                                                                                                                                                                                                                                                                                                                                                                                                                                                                                                 \n",
              "3  آخرین آمار کرونا در ایران، ۱۳ آذر ۱۴۰۰: فوت ۵۸...                                                                                                                                                                                                                                                                                                                                                                                                                                                                                                                                                                                 \n",
              "4   تسنیم: دلار در بازار آزاد: ۳۰ هزار و ۱۰۰تومان...                                                                                                                                                                                                                                                                                                                                                                                                                                                                                                                                                                                 "
            ]
          },
          "metadata": {},
          "execution_count": 9
        }
      ]
    },
    {
      "cell_type": "code",
      "source": [
        "from sklearn.feature_extraction.text import TfidfVectorizer\n",
        "from sklearn.cluster import KMeans\n",
        "\n",
        "doc = news['news'].values.astype(\"UTF-8\")\n",
        "vector = TfidfVectorizer(stop_words='english')\n",
        "features = vector.fit_transform(doc)\n",
        "\n",
        "k = 10\n",
        "model = KMeans(n_clusters=k, init='k-means++', max_iter=100, n_init=1)\n",
        "model.fit(features)\n",
        "\n",
        "news['type'] = model.labels_\n",
        "news.head()\n",
        "clusters = news.groupby('type')\n",
        "for cluster in clusters.groups:\n",
        "  my = open('type'+ str(cluster) + '.txt', 'w')\n",
        "  data = clusters.get_group(cluster)[['news']]\n",
        "  my.write(data.to_csv(index_label='id'))\n",
        "  my.close()"
      ],
      "metadata": {
        "id": "YwJol2pjRsIy"
      },
      "execution_count": 14,
      "outputs": []
    },
    {
      "cell_type": "code",
      "source": [
        "print(\" centroids:\\n\")\n",
        "\n",
        "order_centeroids = model.cluster_centers_.argsort()[:,::-1]\n",
        "terms = vector.get_feature_names()\n",
        "for i in range(k):\n",
        "  print(\"cluster %d:\" %i)\n",
        "  for j in order_centeroids[i, :10]:\n",
        "    print('%s' %terms[j])\n",
        "  "
      ],
      "metadata": {
        "id": "x1sdf36FR0MS"
      },
      "execution_count": null,
      "outputs": []
    }
  ]
}