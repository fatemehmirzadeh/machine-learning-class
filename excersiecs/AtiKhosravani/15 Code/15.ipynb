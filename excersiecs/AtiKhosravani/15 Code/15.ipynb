{
 "cells": [
  {
   "cell_type": "code",
   "execution_count": 3,
   "id": "d682bf27",
   "metadata": {},
   "outputs": [
    {
     "name": "stdout",
     "output_type": "stream",
     "text": [
      "True\n"
     ]
    }
   ],
   "source": [
    "def AND(a, b):\n",
    "    if a == False or b == False:\n",
    "        print('False')\n",
    "        return False\n",
    "    elif a == True:\n",
    "        if b == True:\n",
    "            print('True')\n",
    "            return True\n",
    "        else:\n",
    "            print('False')\n",
    "            return False\n",
    "    else:  # b==True\n",
    "        if a == True:\n",
    "            print('True')\n",
    "            return True\n",
    "        else:\n",
    "            print('False')\n",
    "            return False\n",
    "\n",
    "\n",
    "AND(True, True)"
   ]
  },
  {
   "cell_type": "code",
   "execution_count": 5,
   "id": "a6cda678",
   "metadata": {},
   "outputs": [
    {
     "name": "stdout",
     "output_type": "stream",
     "text": [
      "False\n"
     ]
    },
    {
     "data": {
      "text/plain": [
       "False"
      ]
     },
     "execution_count": 5,
     "metadata": {},
     "output_type": "execute_result"
    }
   ],
   "source": [
    "def OR(a, b):\n",
    "    if a == True or b == True:\n",
    "        print('True')\n",
    "        return True\n",
    "    elif a == False:\n",
    "        if b == True:\n",
    "            print('True')\n",
    "            return True\n",
    "        else:\n",
    "            print('False')\n",
    "            return False\n",
    "    else:\n",
    "        if a == True:\n",
    "            print('True')\n",
    "            return True\n",
    "        else:\n",
    "            print('False')\n",
    "            return False\n",
    "        \n",
    "OR(False, False)"
   ]
  },
  {
   "cell_type": "code",
   "execution_count": 13,
   "id": "e417d371",
   "metadata": {},
   "outputs": [
    {
     "name": "stdout",
     "output_type": "stream",
     "text": [
      "True\n"
     ]
    },
    {
     "data": {
      "text/plain": [
       "True"
      ]
     },
     "execution_count": 13,
     "metadata": {},
     "output_type": "execute_result"
    }
   ],
   "source": [
    "def XOR(a, b):\n",
    "    if a == True:\n",
    "        if b == False:\n",
    "            print('True')\n",
    "            return True\n",
    "#         else:\n",
    "#             print('False')\n",
    "#             return False\n",
    "    elif a == False:\n",
    "        if b == True:\n",
    "            print('True')\n",
    "            return True\n",
    "#         else:\n",
    "#             print('False')\n",
    "#             return False\n",
    "    elif b == True:\n",
    "        if a == False:\n",
    "            print('True')\n",
    "            return True\n",
    "#         else:\n",
    "#             print('False')\n",
    "#             return False    \n",
    "    elif b == False:\n",
    "        if a == True:\n",
    "            print('True')\n",
    "            return True\n",
    "#         else:\n",
    "#             print('False')\n",
    "#             return False\n",
    "    else:\n",
    "        print('False')\n",
    "        return False\n",
    "        \n",
    "XOR(False, True)"
   ]
  },
  {
   "cell_type": "code",
   "execution_count": 18,
   "id": "086f3885",
   "metadata": {},
   "outputs": [
    {
     "name": "stdout",
     "output_type": "stream",
     "text": [
      "True\n"
     ]
    },
    {
     "data": {
      "text/plain": [
       "True"
      ]
     },
     "execution_count": 18,
     "metadata": {},
     "output_type": "execute_result"
    }
   ],
   "source": [
    "def NAND(a, b):\n",
    "    if a == False:\n",
    "        if b == True:\n",
    "            print('True')\n",
    "            return True\n",
    "        else:\n",
    "            print ('True')\n",
    "            return True\n",
    "    else:\n",
    "        if b == True:\n",
    "            print('False')\n",
    "            return False\n",
    "        else:\n",
    "            print ('True')\n",
    "            return True\n",
    "        \n",
    "NAND(False, True)"
   ]
  },
  {
   "cell_type": "code",
   "execution_count": 22,
   "id": "0519833e",
   "metadata": {},
   "outputs": [
    {
     "name": "stdout",
     "output_type": "stream",
     "text": [
      "False\n"
     ]
    },
    {
     "data": {
      "text/plain": [
       "False"
      ]
     },
     "execution_count": 22,
     "metadata": {},
     "output_type": "execute_result"
    }
   ],
   "source": [
    "def NOR(a, b):\n",
    "    if a == False:\n",
    "        if b == False:\n",
    "            print('True')\n",
    "            return True\n",
    "        else:\n",
    "            print ('False')\n",
    "            return False\n",
    "    else:\n",
    "        if b == False:\n",
    "            print('False')\n",
    "            return False\n",
    "        else:\n",
    "            print ('False')\n",
    "            return False\n",
    "        \n",
    "NOR(True, True)"
   ]
  },
  {
   "cell_type": "code",
   "execution_count": 23,
   "id": "4145823c",
   "metadata": {},
   "outputs": [
    {
     "name": "stdout",
     "output_type": "stream",
     "text": [
      "False\n"
     ]
    },
    {
     "data": {
      "text/plain": [
       "False"
      ]
     },
     "execution_count": 23,
     "metadata": {},
     "output_type": "execute_result"
    }
   ],
   "source": [
    "def NOT(a):\n",
    "    if a == True:\n",
    "        print('False')\n",
    "        return False\n",
    "    else:\n",
    "        print('True')\n",
    "        return True\n",
    "    \n",
    "NOT(True)"
   ]
  }
 ],
 "metadata": {
  "kernelspec": {
   "display_name": "Python 3 (ipykernel)",
   "language": "python",
   "name": "python3"
  },
  "language_info": {
   "codemirror_mode": {
    "name": "ipython",
    "version": 3
   },
   "file_extension": ".py",
   "mimetype": "text/x-python",
   "name": "python",
   "nbconvert_exporter": "python",
   "pygments_lexer": "ipython3",
   "version": "3.9.7"
  }
 },
 "nbformat": 4,
 "nbformat_minor": 5
}
