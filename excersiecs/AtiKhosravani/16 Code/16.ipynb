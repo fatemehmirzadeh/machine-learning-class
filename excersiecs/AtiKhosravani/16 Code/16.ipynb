{
 "cells": [
  {
   "cell_type": "markdown",
   "id": "6ad7c554",
   "metadata": {},
   "source": [
    "# (A AND B) OR (B OR C) XOR (A NAND B)"
   ]
  },
  {
   "cell_type": "code",
   "execution_count": 9,
   "id": "73433d01",
   "metadata": {},
   "outputs": [
    {
     "name": "stdout",
     "output_type": "stream",
     "text": [
      "True\n"
     ]
    },
    {
     "data": {
      "text/plain": [
       "True"
      ]
     },
     "execution_count": 9,
     "metadata": {},
     "output_type": "execute_result"
    }
   ],
   "source": [
    "def term1(a, b, c):\n",
    "    if a == False:\n",
    "        if b == False:\n",
    "            if c == False:\n",
    "                print('True')\n",
    "                return True\n",
    "            else: # c == true\n",
    "                print('False')\n",
    "                return False\n",
    "        else: # b == true\n",
    "            if c == False:\n",
    "                print('False')\n",
    "                return False\n",
    "            else: # c == true\n",
    "                print('True')\n",
    "                return True\n",
    "    else: # a == true\n",
    "        if b == False:\n",
    "            print('False')\n",
    "            return False\n",
    "        else: # b == true\n",
    "            if c == False:\n",
    "                print('False')\n",
    "                return False\n",
    "            else: # c == true\n",
    "                print('True')\n",
    "                return True\n",
    "            \n",
    "term1(True, True, True)"
   ]
  },
  {
   "cell_type": "markdown",
   "id": "30024934",
   "metadata": {},
   "source": [
    "# (A AND B OR C) OR (C NAND B)"
   ]
  },
  {
   "cell_type": "code",
   "execution_count": 12,
   "id": "5d099e8f",
   "metadata": {},
   "outputs": [
    {
     "name": "stdout",
     "output_type": "stream",
     "text": [
      "True\n"
     ]
    },
    {
     "data": {
      "text/plain": [
       "True"
      ]
     },
     "execution_count": 12,
     "metadata": {},
     "output_type": "execute_result"
    }
   ],
   "source": [
    "def term2(a, b, c):\n",
    "    if a == True:\n",
    "        print('True')\n",
    "        return True\n",
    "    else:\n",
    "        print('True')\n",
    "        return True\n",
    "    \n",
    "term2(True, False, True)"
   ]
  },
  {
   "cell_type": "markdown",
   "id": "6f72fe55",
   "metadata": {},
   "source": [
    "# (A XOR B) AND (B OR C) AND (C AND D)"
   ]
  },
  {
   "cell_type": "code",
   "execution_count": 35,
   "id": "6d744052",
   "metadata": {},
   "outputs": [
    {
     "name": "stdout",
     "output_type": "stream",
     "text": [
      "False\n"
     ]
    },
    {
     "data": {
      "text/plain": [
       "False"
      ]
     },
     "execution_count": 35,
     "metadata": {},
     "output_type": "execute_result"
    }
   ],
   "source": [
    "def term3(a, b, c, d):\n",
    "    if a == False:\n",
    "        if b == True:\n",
    "            if c == False:\n",
    "                print('False')\n",
    "                return False\n",
    "            else: # c == true\n",
    "                if d == False:\n",
    "                    print('False')\n",
    "                    return False\n",
    "                else: # d == true\n",
    "                    print('True')\n",
    "                    return True\n",
    "        else: # b == false\n",
    "            print('False')\n",
    "            return False\n",
    "    else: # a = true\n",
    "        if b == True:\n",
    "            print('False')\n",
    "            return False\n",
    "        else: # b == false\n",
    "            if c == False:\n",
    "                print('False')\n",
    "                return False\n",
    "            else: # c == true\n",
    "                if d == False:\n",
    "                    print('False')\n",
    "                    return False\n",
    "                else: # d == true\n",
    "                    print('True')\n",
    "                    return True\n",
    "                \n",
    "                \n",
    "term3(1,1,1,1)"
   ]
  }
 ],
 "metadata": {
  "kernelspec": {
   "display_name": "Python 3 (ipykernel)",
   "language": "python",
   "name": "python3"
  },
  "language_info": {
   "codemirror_mode": {
    "name": "ipython",
    "version": 3
   },
   "file_extension": ".py",
   "mimetype": "text/x-python",
   "name": "python",
   "nbconvert_exporter": "python",
   "pygments_lexer": "ipython3",
   "version": "3.9.7"
  }
 },
 "nbformat": 4,
 "nbformat_minor": 5
}
