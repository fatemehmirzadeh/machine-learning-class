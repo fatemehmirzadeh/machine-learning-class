{
 "cells": [
  {
   "cell_type": "markdown",
   "id": "c1c80bb0",
   "metadata": {},
   "source": [
    "فرمول محاسبه لگاریتم مبنای 2"
   ]
  },
  {
   "cell_type": "code",
   "execution_count": 16,
   "id": "09af6f1f",
   "metadata": {},
   "outputs": [
    {
     "name": "stdout",
     "output_type": "stream",
     "text": [
      "0\n"
     ]
    }
   ],
   "source": [
    "def log2(n):\n",
    "    i = 0\n",
    "    while n > 1:\n",
    "        n >>= 1\n",
    "        i += 1\n",
    "    return i\n",
    "\n",
    "\n",
    "print(log2(4/5))"
   ]
  },
  {
   "cell_type": "markdown",
   "id": "bad4dde3",
   "metadata": {},
   "source": [
    "جهت محاسبه دقیقتر لگاریتم از تابع ماژول math استفاده شده"
   ]
  },
  {
   "cell_type": "code",
   "execution_count": 34,
   "id": "cb3af6f6",
   "metadata": {},
   "outputs": [
    {
     "name": "stdout",
     "output_type": "stream",
     "text": [
      "hello Ati\n",
      "0.811\n"
     ]
    }
   ],
   "source": [
    "import math\n",
    "\n",
    "def entropy_calculator(n_pos, n_neg, n_all):\n",
    "    n_neg= float(n_neg)\n",
    "    n_pos = float(n_pos)\n",
    "    n_all = float(n_all)\n",
    "    \n",
    "    x = -(n_neg / n_all) * (math.log((n_neg / n_all), 2.0))\n",
    "    y = -(n_pos / n_all) * (math.log((n_pos / n_all), 2.0))\n",
    "    \n",
    "    return x + y\n",
    "\n",
    "\n",
    "print('%.3f' %entropy_calculator(3, 9, 12))"
   ]
  }
 ],
 "metadata": {
  "kernelspec": {
   "display_name": "Python 3 (ipykernel)",
   "language": "python",
   "name": "python3"
  },
  "language_info": {
   "codemirror_mode": {
    "name": "ipython",
    "version": 3
   },
   "file_extension": ".py",
   "mimetype": "text/x-python",
   "name": "python",
   "nbconvert_exporter": "python",
   "pygments_lexer": "ipython3",
   "version": "3.9.7"
  }
 },
 "nbformat": 4,
 "nbformat_minor": 5
}
